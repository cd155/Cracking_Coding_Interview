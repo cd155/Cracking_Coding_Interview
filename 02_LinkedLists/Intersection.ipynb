{
 "cells": [
  {
   "cell_type": "code",
   "execution_count": 1,
   "id": "funky-meditation",
   "metadata": {},
   "outputs": [
    {
     "data": {
      "text/html": [
       "<style>table {float:left}</style> <style>td {font-size: 15px}</style> <style>tr {font-size: 15px}</style>\n"
      ],
      "text/plain": [
       "<IPython.core.display.HTML object>"
      ]
     },
     "metadata": {},
     "output_type": "display_data"
    }
   ],
   "source": [
    "%%html\n",
    "<style>table {float:left}</style> <style>td {font-size: 15px}</style> <style>tr {font-size: 15px}</style>"
   ]
  },
  {
   "cell_type": "code",
   "execution_count": 2,
   "id": "548ac44b-f7a9-4a25-b9c0-397a7507f4c2",
   "metadata": {},
   "outputs": [],
   "source": [
    "import nbimporter\n",
    "from LinkedList import *"
   ]
  },
  {
   "cell_type": "markdown",
   "id": "specific-nebraska",
   "metadata": {},
   "source": [
    "# Intersection\n",
    "\n",
    "    Given two (singly) linked lists, determine if the two lists intersect. Return the intersecting node. \n",
    "    \n",
    "    Note that the intersection is defined based on reference, not value. \n",
    "    \n",
    "    That is, if the kth node of the first linked list is the exact same node (by reference) as the jth node of the second linked list, then they are intersecting."
   ]
  },
  {
   "cell_type": "markdown",
   "id": "demonstrated-remove",
   "metadata": {},
   "source": [
    "##### Black box\n",
    "| Scenario |Test Case| Output |\n",
    "| :---        |:----:|    :----:   |\n",
    "| Intersect Middle | 3->1->2->4->5, 7->9->4->5 | True |\n",
    "| Intersect First | 3->1->2->4->5, 3->1->2->4->5 | True |\n",
    "| Intersect Last | 3->1->2->4->5, 5 | True |\n",
    "| No Intersect | 3->1->2->4->5, 6->10->8 | False |"
   ]
  },
  {
   "cell_type": "code",
   "execution_count": 3,
   "id": "executed-brazil",
   "metadata": {},
   "outputs": [],
   "source": [
    "node1 = node(1)\n",
    "node3 = node(3)\n",
    "node2 = node(2)\n",
    "node4 = node(4)\n",
    "node5 = node(5)\n",
    "node6 = node(6)\n",
    "node7 = node(7)\n",
    "node8 = node(8)\n",
    "node9 = node(9)\n",
    "node10 = node(10)\n",
    "\n",
    "node3.next = node1\n",
    "node1.next = node2\n",
    "node2.next = node4\n",
    "node4.next = node5\n",
    "node7.next = node9\n",
    "node9.next = node4\n",
    "node6.next = node10\n",
    "node10.next = node8\n",
    "\n",
    "black1 = [node3, node3, node3, node3]\n",
    "black2 = [node7, node3, node5, node6]"
   ]
  },
  {
   "cell_type": "markdown",
   "id": "intensive-jewel",
   "metadata": {},
   "source": [
    "## Method 1 - Match to the same length"
   ]
  },
  {
   "cell_type": "code",
   "execution_count": 4,
   "id": "demanding-antibody",
   "metadata": {},
   "outputs": [],
   "source": [
    "def check_insect_linked_list(head1, head2):\n",
    "    n1 = head1\n",
    "    n2 = head2\n",
    "    size1 = 0\n",
    "    size2 = 0\n",
    "\n",
    "    while n1 != None:\n",
    "        size1 += 1\n",
    "        n1 = n1.next\n",
    "        \n",
    "    while n2 != None:\n",
    "        size2 += 1\n",
    "        n2 = n2.next\n",
    "    \n",
    "    long_node = None\n",
    "    short_node = None\n",
    "    short_size = None\n",
    "    diff = abs(size1 - size2)\n",
    "    if size1 > size2:\n",
    "        long_node = head1\n",
    "        short_node = head2\n",
    "        short_size = size2\n",
    "    else:\n",
    "        long_node = head2\n",
    "        short_node = head1\n",
    "        short_size = size1\n",
    "\n",
    "    for i in range(0, diff):\n",
    "        long_node = long_node.next\n",
    "    \n",
    "    for i in range(0, short_size):\n",
    "        if long_node == short_node:\n",
    "            return True\n",
    "        long_node = long_node.next\n",
    "        short_node = short_node.next\n",
    "\n",
    "    return False"
   ]
  },
  {
   "cell_type": "code",
   "execution_count": 5,
   "id": "sharp-modeling",
   "metadata": {},
   "outputs": [],
   "source": [
    "assert list(map(check_insect_linked_list, black1, black2)) == [True, True, True, False]"
   ]
  },
  {
   "cell_type": "markdown",
   "id": "pediatric-concrete",
   "metadata": {},
   "source": [
    "##### Path Coverage\n",
    "| Scenario      | Test Case | Output |\n",
    "| :---        |    :----:   | :----: |\n",
    "| one single node(first) | 1, 2->1 | True |\n",
    "| one single node(second) | 2->1, 5 | False |\n",
    "| same length | 3->2->1, 3->2->1| True |\n",
    "| first longer, second shorter | 3->2->1, 2->1 | True |\n",
    "| first shorter, second longer | 4->5, 3->2->1 | False |"
   ]
  },
  {
   "cell_type": "code",
   "execution_count": 6,
   "id": "digital-james",
   "metadata": {},
   "outputs": [],
   "source": [
    "node1 = node(1)\n",
    "node2 = node(2)\n",
    "node3 = node(3)\n",
    "node4 = node(4)\n",
    "node5 = node(5)\n",
    "\n",
    "node2.next = node1\n",
    "node3.next = node2\n",
    "node4.next = node5\n",
    "\n",
    "white1 = [node1, node2, node3, node3, node4]\n",
    "white2 = [node2, node5, node3, node2, node2]"
   ]
  },
  {
   "cell_type": "code",
   "execution_count": 7,
   "id": "liquid-technique",
   "metadata": {},
   "outputs": [],
   "source": [
    "assert list(map(check_insect_linked_list, white1, white2)) == [True, False, True, True, False]"
   ]
  }
 ],
 "metadata": {
  "kernelspec": {
   "display_name": "Python 3",
   "language": "python",
   "name": "python3"
  },
  "language_info": {
   "codemirror_mode": {
    "name": "ipython",
    "version": 3
   },
   "file_extension": ".py",
   "mimetype": "text/x-python",
   "name": "python",
   "nbconvert_exporter": "python",
   "pygments_lexer": "ipython3",
   "version": "3.8.5"
  }
 },
 "nbformat": 4,
 "nbformat_minor": 5
}
