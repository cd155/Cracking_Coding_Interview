{
 "cells": [
  {
   "cell_type": "markdown",
   "id": "dc2120e4-4c8c-4c5d-971b-bca61538861d",
   "metadata": {},
   "source": [
    "# Single Linked List"
   ]
  },
  {
   "cell_type": "code",
   "execution_count": 1,
   "id": "0d20341f-a4c8-4156-bbff-4177d49f8b44",
   "metadata": {},
   "outputs": [],
   "source": [
    "class node:\n",
    "\n",
    "    def __init__(self, num):\n",
    "        self.next = None\n",
    "        self.data = num\n",
    "    \n",
    "    def append_to_tail(self, num):\n",
    "        n = self\n",
    "        while n.next != None:\n",
    "            n = n.next\n",
    "        n.next = node(num)\n",
    "\n",
    "    def delete_node(self, num):\n",
    "        n = self\n",
    "        if n.data == num:\n",
    "            self = self.next\n",
    "        while n.next != None:\n",
    "            if n.next.data == num:\n",
    "                n.next = n.next.next\n",
    "            n = n.next\n",
    "\n",
    "    def equal(self, head):\n",
    "        n1 = self\n",
    "        n2 = head\n",
    "        while n1 != None:\n",
    "            if n2 == None:\n",
    "                return False\n",
    "            if n1.data != n2.data:\n",
    "                return False\n",
    "            n1 = n1.next\n",
    "            n2 = n2.next\n",
    "        if n2 != None:\n",
    "            return False\n",
    "        else:\n",
    "            return True"
   ]
  },
  {
   "cell_type": "code",
   "execution_count": 2,
   "id": "2e808ec6-87c8-4634-a76f-642e8c932a4f",
   "metadata": {},
   "outputs": [],
   "source": [
    "def create_linkedlist():\n",
    "    head = node(0)\n",
    "    for i in range(10):\n",
    "        head.append_to_tail(i)\n",
    "    return head\n",
    "\n",
    "def print_linkedlist(head):\n",
    "    n = head\n",
    "    while n != None:\n",
    "        print(n.data)\n",
    "        n = n.next"
   ]
  },
  {
   "cell_type": "code",
   "execution_count": 3,
   "id": "aad50dff-fd1c-402a-b330-9a97b0fb6469",
   "metadata": {},
   "outputs": [
    {
     "name": "stdout",
     "output_type": "stream",
     "text": [
      "0\n",
      "0\n",
      "1\n",
      "2\n",
      "3\n",
      "4\n",
      "5\n",
      "6\n",
      "7\n",
      "8\n",
      "9\n"
     ]
    }
   ],
   "source": [
    "a = create_linkedlist()\n",
    "b = create_linkedlist()\n",
    "print_linkedlist(a)\n",
    "#a.delete_node(1)"
   ]
  },
  {
   "cell_type": "code",
   "execution_count": 4,
   "id": "37e32d36-4233-4eed-8ae9-3b807bd8f28b",
   "metadata": {},
   "outputs": [
    {
     "name": "stdout",
     "output_type": "stream",
     "text": [
      "0\n",
      "0\n",
      "1\n",
      "2\n",
      "3\n",
      "4\n",
      "5\n",
      "6\n",
      "7\n",
      "8\n",
      "9\n"
     ]
    }
   ],
   "source": [
    "print_linkedlist(a)"
   ]
  },
  {
   "cell_type": "code",
   "execution_count": 5,
   "id": "353c1343-6322-4732-8d0b-a8e21ae76807",
   "metadata": {},
   "outputs": [
    {
     "data": {
      "text/plain": [
       "True"
      ]
     },
     "execution_count": 5,
     "metadata": {},
     "output_type": "execute_result"
    }
   ],
   "source": [
    "a.equal(b)"
   ]
  }
 ],
 "metadata": {
  "kernelspec": {
   "display_name": "Python 3",
   "language": "python",
   "name": "python3"
  },
  "language_info": {
   "codemirror_mode": {
    "name": "ipython",
    "version": 3
   },
   "file_extension": ".py",
   "mimetype": "text/x-python",
   "name": "python",
   "nbconvert_exporter": "python",
   "pygments_lexer": "ipython3",
   "version": "3.8.5"
  }
 },
 "nbformat": 4,
 "nbformat_minor": 5
}
