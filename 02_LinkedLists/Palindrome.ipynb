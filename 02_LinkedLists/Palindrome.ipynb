{
 "cells": [
  {
   "cell_type": "code",
   "execution_count": 1,
   "id": "funky-meditation",
   "metadata": {},
   "outputs": [
    {
     "data": {
      "text/html": [
       "<style>table {float:left}</style> <style>td {font-size: 15px}</style> <style>tr {font-size: 15px}</style>\n"
      ],
      "text/plain": [
       "<IPython.core.display.HTML object>"
      ]
     },
     "metadata": {},
     "output_type": "display_data"
    }
   ],
   "source": [
    "%%html\n",
    "<style>table {float:left}</style> <style>td {font-size: 15px}</style> <style>tr {font-size: 15px}</style>"
   ]
  },
  {
   "cell_type": "code",
   "execution_count": 2,
   "id": "8deff8c5-edf0-4160-97d1-08e624c2d838",
   "metadata": {},
   "outputs": [],
   "source": [
    "import nbimporter\n",
    "from LinkedList import *"
   ]
  },
  {
   "cell_type": "markdown",
   "id": "specific-nebraska",
   "metadata": {},
   "source": [
    "# Palindrome\n",
    "\n",
    "    Implement a function to check if a linked list is a palindrome."
   ]
  },
  {
   "cell_type": "markdown",
   "id": "demonstrated-remove",
   "metadata": {},
   "source": [
    "##### Black box\n",
    "| Scenario |Test Case| Output | \n",
    "| :---        |:----:|    :----:   | \n",
    "| Node in depth 1 | 1 | True |\n",
    "| Node in depth 2 Yes | 1->1 | True |\n",
    "| Node in depth 2 No | 1->2 | False |\n",
    "| Node in Odd(more than one) Yes | 3->4->5->4->3 | True |\n",
    "| Node in Odd(more than one) No | 3->4->5->5->3 | False |\n",
    "| Node in Even(more than two) Yes | 3->4->5->5->4->3 | True |\n",
    "| Node in Even(more than two) No | 3->4->6->5->4->3 | False |"
   ]
  },
  {
   "cell_type": "code",
   "execution_count": 3,
   "id": "executed-brazil",
   "metadata": {},
   "outputs": [],
   "source": [
    "node1 = node(1)\n",
    "\n",
    "node2 = node(1)\n",
    "node2.append_to_tail(1)\n",
    "\n",
    "node3 = node(1)\n",
    "node3.append_to_tail(2)\n",
    "\n",
    "node4 = node(3)\n",
    "node4.append_to_tail(4)\n",
    "node4.append_to_tail(5)\n",
    "node4.append_to_tail(4)\n",
    "node4.append_to_tail(3)\n",
    "\n",
    "node5 = node(3)\n",
    "node5.append_to_tail(4)\n",
    "node5.append_to_tail(5)\n",
    "node5.append_to_tail(5)\n",
    "node5.append_to_tail(3)\n",
    "\n",
    "node6 = node(3)\n",
    "node6.append_to_tail(4)\n",
    "node6.append_to_tail(5)\n",
    "node6.append_to_tail(5)\n",
    "node6.append_to_tail(4)\n",
    "node6.append_to_tail(3)\n",
    "\n",
    "node7 = node(3)\n",
    "node7.append_to_tail(4)\n",
    "node7.append_to_tail(6)\n",
    "node7.append_to_tail(5)\n",
    "node7.append_to_tail(4)\n",
    "node7.append_to_tail(3)\n",
    "\n",
    "black1 = [node1, node2, node3, node4, node5, node6, node7]"
   ]
  },
  {
   "cell_type": "markdown",
   "id": "intensive-jewel",
   "metadata": {},
   "source": [
    "## Method 1 - Array"
   ]
  },
  {
   "cell_type": "code",
   "execution_count": 4,
   "id": "demanding-antibody",
   "metadata": {},
   "outputs": [],
   "source": [
    "def is_linkedlist_palindrome_arr(head):\n",
    "    n = head\n",
    "    arr = []\n",
    "    \n",
    "    while n != None:\n",
    "        arr.append(n.data)\n",
    "        n = n.next\n",
    "    \n",
    "    size = len(arr)\n",
    "    for i in range(int(size/2)):\n",
    "        if arr[i] != arr[size-1-i]:\n",
    "            return False\n",
    "    return True"
   ]
  },
  {
   "cell_type": "code",
   "execution_count": 5,
   "id": "sharp-modeling",
   "metadata": {},
   "outputs": [],
   "source": [
    "assert list(map(is_linkedlist_palindrome_arr, black1)) == [True, True, False, True, False, True, False]"
   ]
  },
  {
   "cell_type": "markdown",
   "id": "pediatric-concrete",
   "metadata": {},
   "source": [
    "##### Path Coverage\n",
    "\n",
    "Most cases covered in previous tests."
   ]
  },
  {
   "cell_type": "markdown",
   "id": "animal-progress",
   "metadata": {},
   "source": [
    "# Method 2 - Recursion"
   ]
  },
  {
   "cell_type": "code",
   "execution_count": 6,
   "id": "protective-irish",
   "metadata": {},
   "outputs": [],
   "source": [
    "class result:\n",
    "    def __init__(self, node, is_palindrome):\n",
    "        self.node = node\n",
    "        self.is_palindrome = is_palindrome\n",
    "\n",
    "def is_palindrome(head):\n",
    "    size = find_size_linkedlist(head)\n",
    "    res = is_palindrome_recurse(head, size)\n",
    "    return res.is_palindrome\n",
    "        \n",
    "def is_palindrome_recurse(head, size):\n",
    "    if head == None or size <= 0:\n",
    "        # for even size, check current node\n",
    "        return result(head, True)\n",
    "    elif size == 1:\n",
    "        # for odd size, skip mid node, check next node\n",
    "        return result(head.next, True)\n",
    "    \n",
    "    # in the recursion, the frist pointer on the middle point\n",
    "    res = is_palindrome_recurse(head.next, size - 2)\n",
    "    \n",
    "    if not res.is_palindrome or res.node == None :\n",
    "        return res\n",
    "\n",
    "    res.is_palindrome = head.data == res.node.data\n",
    "    \n",
    "    # move the res.node one node ahead\n",
    "    res.node = res.node.next\n",
    "    return res\n",
    "\n",
    "def find_size_linkedlist(head):\n",
    "    n = head\n",
    "    i = 0\n",
    "    while n != None:\n",
    "        i += 1\n",
    "        n = n.next\n",
    "    return i"
   ]
  },
  {
   "cell_type": "code",
   "execution_count": 7,
   "id": "clear-richmond",
   "metadata": {},
   "outputs": [],
   "source": [
    "assert list(map(is_palindrome, black1)) == [True, True, False, True, False, True, False]"
   ]
  },
  {
   "cell_type": "markdown",
   "id": "joint-memorabilia",
   "metadata": {},
   "source": [
    "##### Path Coverage\n",
    "\n",
    "Most cases covered in previous tests."
   ]
  }
 ],
 "metadata": {
  "kernelspec": {
   "display_name": "Python 3",
   "language": "python",
   "name": "python3"
  },
  "language_info": {
   "codemirror_mode": {
    "name": "ipython",
    "version": 3
   },
   "file_extension": ".py",
   "mimetype": "text/x-python",
   "name": "python",
   "nbconvert_exporter": "python",
   "pygments_lexer": "ipython3",
   "version": "3.8.5"
  }
 },
 "nbformat": 4,
 "nbformat_minor": 5
}
