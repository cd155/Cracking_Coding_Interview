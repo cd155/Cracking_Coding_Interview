{
 "cells": [
  {
   "cell_type": "code",
   "execution_count": 1,
   "id": "funky-meditation",
   "metadata": {},
   "outputs": [
    {
     "data": {
      "text/html": [
       "<style>table {float:left}</style> <style>td {font-size: 15px}</style> <style>tr {font-size: 15px}</style>\n"
      ],
      "text/plain": [
       "<IPython.core.display.HTML object>"
      ]
     },
     "metadata": {},
     "output_type": "display_data"
    }
   ],
   "source": [
    "%%html\n",
    "<style>table {float:left}</style> <style>td {font-size: 15px}</style> <style>tr {font-size: 15px}</style>"
   ]
  },
  {
   "cell_type": "markdown",
   "id": "specific-nebraska",
   "metadata": {},
   "source": [
    "# Remove Duplicates\n",
    "\n",
    "    Write code to remove duplicates from an unsorted linked list."
   ]
  },
  {
   "cell_type": "markdown",
   "id": "demonstrated-remove",
   "metadata": {},
   "source": [
    "##### Black box\n",
    "|   Input(a)   |Test Case| OutPut | \n",
    "| :---        |:----:|    :----:   | \n",
    "| One ducplicate | 3->1->2->4->5->4| 3->1->2->4->5 |\n",
    "| More ducplicates | 3->1->3->2->3->4->5| 3->1->2->4->5 |\n",
    "| No ducplicate | 3->1->2->4->5 | 3->1->2->4->5 |"
   ]
  },
  {
   "cell_type": "code",
   "execution_count": null,
   "id": "executed-brazil",
   "metadata": {},
   "outputs": [],
   "source": [
    "black1 = [\"\"]"
   ]
  },
  {
   "cell_type": "markdown",
   "id": "intensive-jewel",
   "metadata": {},
   "source": [
    "## Method 1"
   ]
  },
  {
   "cell_type": "code",
   "execution_count": null,
   "id": "demanding-antibody",
   "metadata": {},
   "outputs": [],
   "source": [
    "def method1(input1):\n",
    "    return True"
   ]
  },
  {
   "cell_type": "code",
   "execution_count": null,
   "id": "sharp-modeling",
   "metadata": {},
   "outputs": [],
   "source": [
    "assert list(map(method1, black1)) == [True]"
   ]
  },
  {
   "cell_type": "markdown",
   "id": "pediatric-concrete",
   "metadata": {},
   "source": [
    "##### Path Coverage\n",
    "| Senario      | Test Case | OutPut |\n",
    "| :---        |    :----:   | :----: |\n",
    "| empty |  | False |\n",
    "| zero loop | | True |\n",
    "| one loop| | False |\n",
    "| average loop | | False |\n",
    "| max loop| | True |"
   ]
  },
  {
   "cell_type": "code",
   "execution_count": null,
   "id": "digital-james",
   "metadata": {},
   "outputs": [],
   "source": [
    "white1 = [\"\"]"
   ]
  },
  {
   "cell_type": "code",
   "execution_count": null,
   "id": "liquid-technique",
   "metadata": {},
   "outputs": [],
   "source": [
    "assert list(map(method1, white1)) == [True]"
   ]
  },
  {
   "cell_type": "markdown",
   "id": "animal-progress",
   "metadata": {},
   "source": [
    "# Method 2"
   ]
  },
  {
   "cell_type": "code",
   "execution_count": null,
   "id": "protective-irish",
   "metadata": {},
   "outputs": [],
   "source": [
    "def method2(input1, input2):\n",
    "    return False"
   ]
  },
  {
   "cell_type": "code",
   "execution_count": null,
   "id": "clear-richmond",
   "metadata": {},
   "outputs": [],
   "source": [
    "assert list(map(method2, black1, black1)) == [False]"
   ]
  },
  {
   "cell_type": "code",
   "execution_count": null,
   "id": "sapphire-rugby",
   "metadata": {},
   "outputs": [],
   "source": [
    "assert list(map(method2, white1, white1)) == [False]"
   ]
  },
  {
   "cell_type": "markdown",
   "id": "joint-memorabilia",
   "metadata": {},
   "source": [
    "##### Path Coverage\n",
    "| Senario      | Test Case | OutPut |\n",
    "| :---        |    :----:   | :----: |\n",
    "| 1  | | False |\n",
    "| 2  | | True |"
   ]
  },
  {
   "cell_type": "code",
   "execution_count": null,
   "id": "professional-converter",
   "metadata": {},
   "outputs": [],
   "source": [
    "new_white1 = [\"\"]\n",
    "new_white2 = [\"\"]\n",
    "assert list(map(method2, new_white1, new_white2)) == [False]"
   ]
  }
 ],
 "metadata": {
  "kernelspec": {
   "display_name": "Python 3",
   "language": "python",
   "name": "python3"
  },
  "language_info": {
   "codemirror_mode": {
    "name": "ipython",
    "version": 3
   },
   "file_extension": ".py",
   "mimetype": "text/x-python",
   "name": "python",
   "nbconvert_exporter": "python",
   "pygments_lexer": "ipython3",
   "version": "3.8.5"
  }
 },
 "nbformat": 4,
 "nbformat_minor": 5
}
