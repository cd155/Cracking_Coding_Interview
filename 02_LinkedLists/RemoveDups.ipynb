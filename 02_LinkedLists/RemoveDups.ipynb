{
 "cells": [
  {
   "cell_type": "code",
   "execution_count": 1,
   "id": "funky-meditation",
   "metadata": {},
   "outputs": [
    {
     "data": {
      "text/html": [
       "<style>table {float:left}</style> <style>td {font-size: 15px}</style> <style>tr {font-size: 15px}</style>\n"
      ],
      "text/plain": [
       "<IPython.core.display.HTML object>"
      ]
     },
     "metadata": {},
     "output_type": "display_data"
    }
   ],
   "source": [
    "%%html\n",
    "<style>table {float:left}</style> <style>td {font-size: 15px}</style> <style>tr {font-size: 15px}</style>"
   ]
  },
  {
   "cell_type": "code",
   "execution_count": 2,
   "id": "4f477667-02d7-479b-9286-507b92840ad3",
   "metadata": {},
   "outputs": [],
   "source": [
    "import nbimporter\n",
    "from LinkedList import *"
   ]
  },
  {
   "cell_type": "markdown",
   "id": "specific-nebraska",
   "metadata": {},
   "source": [
    "# Remove Duplicates\n",
    "\n",
    "    Write code to remove duplicates from an unsorted linked list."
   ]
  },
  {
   "cell_type": "markdown",
   "id": "demonstrated-remove",
   "metadata": {},
   "source": [
    "##### Black box\n",
    "|   Input(a)   |Test Case| OutPut | \n",
    "| :---        |:----:|    :----:   | \n",
    "| One ducplicate | 3->1->2->4->5->4| 3->1->2->4->5 |\n",
    "| More ducplicates | 3->1->3->2->3->4->5| 3->1->2->4->5 |\n",
    "| No ducplicate | 3->1->2->4->5 | 3->1->2->4->5 |"
   ]
  },
  {
   "cell_type": "code",
   "execution_count": 3,
   "id": "executed-brazil",
   "metadata": {},
   "outputs": [],
   "source": [
    "import copy\n",
    "\n",
    "node1 = node(3)\n",
    "node1.append_to_tail(1)\n",
    "node1.append_to_tail(2)\n",
    "node1.append_to_tail(4)\n",
    "node1.append_to_tail(5)\n",
    "node1.append_to_tail(4)\n",
    "node1_copy1 = copy.deepcopy(node1)\n",
    "\n",
    "node2 = node(3)\n",
    "node2.append_to_tail(1)\n",
    "node2.append_to_tail(3)\n",
    "node2.append_to_tail(2)\n",
    "node2.append_to_tail(3)\n",
    "node2.append_to_tail(4)\n",
    "node2.append_to_tail(5)\n",
    "node2_copy1 = copy.deepcopy(node2)\n",
    "\n",
    "node3 = node(3)\n",
    "node3.append_to_tail(3)\n",
    "node3.append_to_tail(1)\n",
    "node3.append_to_tail(2)\n",
    "node3.append_to_tail(4)\n",
    "node3.append_to_tail(5)\n",
    "node3_copy1 = copy.deepcopy(node3)\n",
    "\n",
    "node_ans_black1 = node(3)\n",
    "node_ans_black1.append_to_tail(1)\n",
    "node_ans_black1.append_to_tail(2)\n",
    "node_ans_black1.append_to_tail(4)\n",
    "node_ans_black1.append_to_tail(5)\n",
    "\n",
    "black1 = [node1, node2, node3]"
   ]
  },
  {
   "cell_type": "markdown",
   "id": "intensive-jewel",
   "metadata": {},
   "source": [
    "## Method 1 - Array"
   ]
  },
  {
   "cell_type": "code",
   "execution_count": 4,
   "id": "demanding-antibody",
   "metadata": {},
   "outputs": [],
   "source": [
    "def remove_dups_linkedlist_arr(head):\n",
    "    node_data_list = []\n",
    "    n = head\n",
    "\n",
    "    # add unique node data in a list\n",
    "    while n != None:\n",
    "        if n.data not in node_data_list:\n",
    "            node_data_list.append(n.data)\n",
    "        n = n.next\n",
    "    \n",
    "    # createa new linked list\n",
    "    new_head = node(node_data_list[0])\n",
    "    for i in range(1, len(node_data_list)):\n",
    "        new_head.append_to_tail(node_data_list[i])\n",
    "\n",
    "    return new_head"
   ]
  },
  {
   "cell_type": "code",
   "execution_count": 5,
   "id": "sharp-modeling",
   "metadata": {},
   "outputs": [],
   "source": [
    "assert list(map(node_ans_black1.equal, list(map(remove_dups_linkedlist_arr, black1)))) == [True, True, True]"
   ]
  },
  {
   "cell_type": "markdown",
   "id": "pediatric-concrete",
   "metadata": {},
   "source": [
    "##### Path Coverage\n",
    "| Scenario      | Test Case | Output |\n",
    "| :---        |    :----:   | :----: |\n",
    "| Single Node | 1 | 1 |\n",
    "| No Duplicates | 1->2 | 1->2 |\n",
    "| All Duplicates| 1->1->1 | 1 |\n",
    "| Normal Case | 3->10->5->10->4->3| 3->10->5->4 |"
   ]
  },
  {
   "cell_type": "code",
   "execution_count": 6,
   "id": "digital-james",
   "metadata": {},
   "outputs": [],
   "source": [
    "node4 = node(1)\n",
    "node4_copy1 = copy.deepcopy(node4)\n",
    "\n",
    "node5 = node(1)\n",
    "node5.append_to_tail(2)\n",
    "node5_copy1 = copy.deepcopy(node5)\n",
    "\n",
    "node6 = node(1)\n",
    "node6.append_to_tail(1)\n",
    "node6.append_to_tail(1)\n",
    "node6.append_to_tail(1)\n",
    "node6_copy1 = copy.deepcopy(node6)\n",
    "\n",
    "node7 = node(3)\n",
    "node7.append_to_tail(10)\n",
    "node7.append_to_tail(5)\n",
    "node7.append_to_tail(10)\n",
    "node7.append_to_tail(4)\n",
    "node7.append_to_tail(3)\n",
    "node7_copy1 = copy.deepcopy(node7)\n",
    "\n",
    "white1 = [node4, node5, node6, node7]"
   ]
  },
  {
   "cell_type": "code",
   "execution_count": 7,
   "id": "7823f187-9dea-4c0e-b4a5-45a641670411",
   "metadata": {},
   "outputs": [],
   "source": [
    "node_ans1_white1 = node(1)\n",
    "node_ans2_white1 = node(1)\n",
    "node_ans2_white1.append_to_tail(2)\n",
    "node_ans3_white1 = node(3)\n",
    "node_ans3_white1.append_to_tail(10)\n",
    "node_ans3_white1.append_to_tail(5)\n",
    "node_ans3_white1.append_to_tail(4)"
   ]
  },
  {
   "cell_type": "code",
   "execution_count": 8,
   "id": "570d16f9-169b-4dcc-8def-ae7986dc0779",
   "metadata": {},
   "outputs": [],
   "source": [
    "result = list(map(remove_dups_linkedlist_arr, white1))\n",
    "assert node_ans1_white1.equal(result[0])\n",
    "assert node_ans2_white1.equal(result[1])\n",
    "assert node_ans1_white1.equal(result[2])\n",
    "assert node_ans3_white1.equal(result[3])"
   ]
  },
  {
   "cell_type": "markdown",
   "id": "animal-progress",
   "metadata": {},
   "source": [
    "# Method 2 - Runner Three Pointers"
   ]
  },
  {
   "cell_type": "code",
   "execution_count": 9,
   "id": "protective-irish",
   "metadata": {},
   "outputs": [],
   "source": [
    "# three pointers method without the delete node method\n",
    "def remove_dups_linkedlist_threepoints(head):\n",
    "    n = head\n",
    "    runner = head.next\n",
    "    while n != None:\n",
    "        # set the third point as previous node of runner\n",
    "        runner_pre = n\n",
    "        while runner != None:\n",
    "            if n.data == runner.data:\n",
    "                # replace the duplicate\n",
    "                runner_pre.next = runner.next\n",
    "                # once find the duplicate, keep runner_pre in the current position, run check again\n",
    "                runner = runner.next\n",
    "                continue\n",
    "            runner = runner.next\n",
    "            runner_pre = runner_pre.next\n",
    "        n = n.next\n",
    "        if n != None:\n",
    "            # reset runner\n",
    "            runner = n.next\n",
    "    return head"
   ]
  },
  {
   "cell_type": "code",
   "execution_count": 10,
   "id": "9cf33bf0-c9d5-418f-ad07-af4635f08948",
   "metadata": {},
   "outputs": [],
   "source": [
    "black1_copys1 = [node1_copy1, node2_copy1, node3_copy1]\n",
    "white1_copys1 = [node4_copy1, node5_copy1, node6_copy1, node7_copy1]"
   ]
  },
  {
   "cell_type": "code",
   "execution_count": 11,
   "id": "0a241d54-d7ed-4e98-8eee-eb68ba71c18e",
   "metadata": {},
   "outputs": [],
   "source": [
    "assert list(map(node_ans_black1.equal, list(map(remove_dups_linkedlist_threepoints, black1_copys1)))) == [True, True, True]"
   ]
  },
  {
   "cell_type": "code",
   "execution_count": 12,
   "id": "clear-richmond",
   "metadata": {},
   "outputs": [],
   "source": [
    "result = list(map(remove_dups_linkedlist_threepoints, white1_copys1))\n",
    "assert node_ans1_white1.equal(result[0])\n",
    "assert node_ans2_white1.equal(result[1])\n",
    "assert node_ans1_white1.equal(result[2])\n",
    "assert node_ans3_white1.equal(result[3])"
   ]
  },
  {
   "cell_type": "markdown",
   "id": "joint-memorabilia",
   "metadata": {},
   "source": [
    "##### Path Coverage\n",
    "| Scenario      | Test Case | Output |\n",
    "| :---        |    :----:   | :----: |\n",
    "| single node  | 1 | 1 |\n",
    "| no duplicate  | 2->1->3 | 2->1->3 |\n",
    "| multiple consecutive duplicate  | 2->1->3->3->3 | 2->1->3 |\n",
    "| multiple single duplicate  | 2->1->2->3->2->3 | 2->1->3 |"
   ]
  },
  {
   "cell_type": "code",
   "execution_count": 13,
   "id": "professional-converter",
   "metadata": {},
   "outputs": [],
   "source": [
    "node8 = node(2)\n",
    "node8.append_to_tail(1)\n",
    "node8.append_to_tail(3)\n",
    "node8.append_to_tail(3)\n",
    "node8.append_to_tail(3)\n",
    "\n",
    "node9 = node(2)\n",
    "node9.append_to_tail(1)\n",
    "node9.append_to_tail(2)\n",
    "node9.append_to_tail(3)\n",
    "node9.append_to_tail(2)\n",
    "node9.append_to_tail(3)\n",
    "\n",
    "white2 = [node8, node9]\n",
    "\n",
    "node_ans_white2 = node(2)\n",
    "node_ans_white2.append_to_tail(1)\n",
    "node_ans_white2.append_to_tail(3)\n",
    "\n",
    "assert list(map(node_ans_white2.equal, list(map(remove_dups_linkedlist_threepoints, white2)))) == [True, True]"
   ]
  }
 ],
 "metadata": {
  "kernelspec": {
   "display_name": "Python 3",
   "language": "python",
   "name": "python3"
  },
  "language_info": {
   "codemirror_mode": {
    "name": "ipython",
    "version": 3
   },
   "file_extension": ".py",
   "mimetype": "text/x-python",
   "name": "python",
   "nbconvert_exporter": "python",
   "pygments_lexer": "ipython3",
   "version": "3.8.5"
  }
 },
 "nbformat": 4,
 "nbformat_minor": 5
}
