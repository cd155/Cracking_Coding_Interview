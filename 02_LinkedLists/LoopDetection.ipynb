{
 "cells": [
  {
   "cell_type": "code",
   "execution_count": 1,
   "id": "funky-meditation",
   "metadata": {},
   "outputs": [
    {
     "data": {
      "text/html": [
       "<style>table {float:left}</style> <style>td {font-size: 15px}</style> <style>tr {font-size: 15px}</style>\n"
      ],
      "text/plain": [
       "<IPython.core.display.HTML object>"
      ]
     },
     "metadata": {},
     "output_type": "display_data"
    }
   ],
   "source": [
    "%%html\n",
    "<style>table {float:left}</style> <style>td {font-size: 15px}</style> <style>tr {font-size: 15px}</style>"
   ]
  },
  {
   "cell_type": "code",
   "execution_count": 2,
   "id": "fb9c6b9d-23a4-444f-ac09-23f40f730311",
   "metadata": {},
   "outputs": [],
   "source": [
    "import nbimporter\n",
    "from LinkedList import *"
   ]
  },
  {
   "cell_type": "markdown",
   "id": "specific-nebraska",
   "metadata": {},
   "source": [
    "# Loop Detection\n",
    "\n",
    "    Given a circular linked list, implement an algorithm that returns the node at the beginning of the loop.\n",
    "    \n",
    "    Definition - Circular linked list: A (corrupt) linked list in which a node's next pointer points to an earlier node, so as to make a loop in the linked list.\n",
    "    \n",
    "    Example: \n",
    "    Input: A -> B -> C -> D -> E -> C[the same C as earlier]\n",
    "    Output: C"
   ]
  },
  {
   "cell_type": "markdown",
   "id": "demonstrated-remove",
   "metadata": {},
   "source": [
    "##### Black box\n",
    "| Scenario |Test Case| Output | \n",
    "| :---        |:----:|    :----:   | \n",
    "| Loop | 3->1->2->4->2 | True |\n",
    "| No Loop | 6->5->7->8| False |"
   ]
  },
  {
   "cell_type": "code",
   "execution_count": 3,
   "id": "executed-brazil",
   "metadata": {},
   "outputs": [],
   "source": [
    "node1 = node(1)\n",
    "node2 = node(2)\n",
    "node3 = node(3)\n",
    "node4 = node(4)\n",
    "node5 = node(5)\n",
    "node6 = node(6)\n",
    "node7 = node(7)\n",
    "node8 = node(8)\n",
    "\n",
    "node3.next = node1\n",
    "node1.next = node2\n",
    "node2.next = node4\n",
    "node4.next = node2\n",
    "\n",
    "node6.next = node5\n",
    "node5.next = node7\n",
    "node7.next = node8\n",
    "\n",
    "black1 = [node3, node6]"
   ]
  },
  {
   "cell_type": "markdown",
   "id": "intensive-jewel",
   "metadata": {},
   "source": [
    "## Method 1 - Dictionary"
   ]
  },
  {
   "cell_type": "code",
   "execution_count": 4,
   "id": "demanding-antibody",
   "metadata": {},
   "outputs": [],
   "source": [
    "def is_linked_list_looped(head):\n",
    "    n = head\n",
    "    arr = []\n",
    "    \n",
    "    while n != None:\n",
    "        if n in arr:\n",
    "            return True\n",
    "        else:\n",
    "            arr.append(n)\n",
    "        n = n.next\n",
    "    return False"
   ]
  },
  {
   "cell_type": "code",
   "execution_count": 5,
   "id": "sharp-modeling",
   "metadata": {},
   "outputs": [],
   "source": [
    "assert list(map(is_linked_list_looped, black1)) == [True, False]"
   ]
  },
  {
   "cell_type": "markdown",
   "id": "pediatric-concrete",
   "metadata": {},
   "source": [
    "##### Path Coverage\n",
    "| Scenario      | Test Case | Output |\n",
    "| :---        |    :----:   | :----: |\n",
    "| None | None | False |\n",
    "| Single node | 1 | False |\n",
    "| No loop | 4->6->5 | False |\n",
    "| has loop| 2->7->3->8->2| True |\n",
    "| self loop| 9->9| True |"
   ]
  },
  {
   "cell_type": "code",
   "execution_count": 6,
   "id": "digital-james",
   "metadata": {},
   "outputs": [],
   "source": [
    "node0 = None\n",
    "node1 = node(1)\n",
    "node2 = node(2)\n",
    "node3 = node(3)\n",
    "node4 = node(4)\n",
    "node5 = node(5)\n",
    "node6 = node(6)\n",
    "node7 = node(7)\n",
    "node8 = node(8)\n",
    "node9 = node(9)\n",
    "\n",
    "node2.next = node7\n",
    "node7.next = node3\n",
    "node3.next = node8\n",
    "node8.next = node2\n",
    "\n",
    "node9.next = node9\n",
    "\n",
    "white1 = [node0, node1, node4, node2, node9]"
   ]
  },
  {
   "cell_type": "code",
   "execution_count": 7,
   "id": "liquid-technique",
   "metadata": {},
   "outputs": [],
   "source": [
    "assert list(map(is_linked_list_looped, white1)) == [False, False, False, True, True]"
   ]
  }
 ],
 "metadata": {
  "kernelspec": {
   "display_name": "Python 3",
   "language": "python",
   "name": "python3"
  },
  "language_info": {
   "codemirror_mode": {
    "name": "ipython",
    "version": 3
   },
   "file_extension": ".py",
   "mimetype": "text/x-python",
   "name": "python",
   "nbconvert_exporter": "python",
   "pygments_lexer": "ipython3",
   "version": "3.8.5"
  }
 },
 "nbformat": 4,
 "nbformat_minor": 5
}
