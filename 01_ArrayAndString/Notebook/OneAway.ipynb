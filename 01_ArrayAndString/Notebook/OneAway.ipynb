{
 "cells": [
  {
   "cell_type": "code",
   "execution_count": 1,
   "id": "greek-brief",
   "metadata": {},
   "outputs": [
    {
     "data": {
      "text/html": [
       "<style>table {float:left}</style> <style>td {font-size: 15px}</style> <style>tr {font-size: 15px}</style>\n"
      ],
      "text/plain": [
       "<IPython.core.display.HTML object>"
      ]
     },
     "metadata": {},
     "output_type": "display_data"
    }
   ],
   "source": [
    "%%html\n",
    "<style>table {float:left}</style> <style>td {font-size: 15px}</style> <style>tr {font-size: 15px}</style>"
   ]
  },
  {
   "cell_type": "markdown",
   "id": "compressed-express",
   "metadata": {},
   "source": [
    "# One Edit Away \n",
    "\n",
    "    There are three types of edits that can be performed on strings: \n",
    "    \n",
    "    insert a character, remove a character, or replace a character. \n",
    "    \n",
    "    Given two strings, write a function to check if they are one edit (or zero edits) away."
   ]
  },
  {
   "cell_type": "markdown",
   "id": "auburn-annex",
   "metadata": {},
   "source": [
    "##### Black box\n",
    "|   Scenario   |Test Case| Output | \n",
    "| :---        |:----:|    :----:   | \n",
    "| One Edit (insert)  |\"tech\",\"teach\" | True |\n",
    "| One Edit (remove)  |\"tech\",\"ech\" | True | \n",
    "| One Edit (replace)  |\"tech\",\"tach\" | True | \n",
    "| Zero Edit | \"tech\",\"tech\" | True | \n",
    "| More than one Edit   |\"tech\",\"team\"| False | "
   ]
  },
  {
   "cell_type": "code",
   "execution_count": 2,
   "id": "blocked-dublin",
   "metadata": {},
   "outputs": [],
   "source": [
    "black1 = [\"tech\", \"tech\", \"tech\", \"tech\", \"tech\"]\n",
    "black2 = [\"teach\", \"ech\", \"tach\", \"tech\", \"team\"]"
   ]
  },
  {
   "cell_type": "markdown",
   "id": "electric-profit",
   "metadata": {},
   "source": [
    "## One Way Edit - Array Dictionary"
   ]
  },
  {
   "cell_type": "code",
   "execution_count": 3,
   "id": "clinical-evaluation",
   "metadata": {},
   "outputs": [],
   "source": [
    "def oneway_dict(input1, input2):\n",
    "    inorder_arr = inputs_inorder(input1, input2)\n",
    "    long_input = inorder_arr[0]\n",
    "    short_input = inorder_arr[1]\n",
    "    \n",
    "    arr_dict = [0]*128\n",
    "    \n",
    "    for char in long_input:\n",
    "        char_num = ord(char)\n",
    "        arr_dict[char_num] += 1\n",
    "    \n",
    "    for char in short_input:\n",
    "        char_num = ord(char)\n",
    "        arr_dict[char_num] -= 1\n",
    "    \n",
    "    edit_arr = [item for item in arr_dict if item != 0]\n",
    "        \n",
    "    if len(edit_arr) == 0:\n",
    "        return True\n",
    "    elif len(edit_arr) == 1 and edit_arr[0] == 1:\n",
    "        return True\n",
    "    elif len(edit_arr) == 2 and -1 in edit_arr and 1 in edit_arr:\n",
    "        return True\n",
    "    else:\n",
    "        return False\n",
    "\n",
    "def inputs_inorder(input1, input2):\n",
    "    inorder_arr = []\n",
    "    if len(input1) > len(input2):\n",
    "        inorder_arr.append(input1)\n",
    "        inorder_arr.append(input2)\n",
    "    else:\n",
    "        inorder_arr.append(input2)\n",
    "        inorder_arr.append(input1)\n",
    "    return inorder_arr"
   ]
  },
  {
   "cell_type": "code",
   "execution_count": 4,
   "id": "instant-opening",
   "metadata": {},
   "outputs": [],
   "source": [
    "assert list(map(oneway_dict, black1, black2)) == [True, True, True, True, False]"
   ]
  },
  {
   "cell_type": "markdown",
   "id": "exciting-salem",
   "metadata": {},
   "source": [
    "##### Path Coverage\n",
    "| Scenario      | Test Case | Output |\n",
    "| :---        |    :----:   | :----: |\n",
    "| All Empty | \"\", \"\"| True |\n",
    "| One Empty True | \"\", \"e\"| True |\n",
    "| One Empty False| \"\", \"ed\"| False |\n",
    "| One loop| \"a\", \"b\"| True|\n",
    "| Average loop | \"university\", \"universal\"| False |\n",
    "| Average loop | \"dog\", \"hog\"| True |\n",
    "| More than One| \"tech\", \"aacc\"| False |"
   ]
  },
  {
   "cell_type": "code",
   "execution_count": 5,
   "id": "competitive-incident",
   "metadata": {},
   "outputs": [],
   "source": [
    "white1 = [\"\", \"\", \"\", \"a\", \"university\", \"dog\", \"tech\"]\n",
    "white2 = [\"\", \"e\", \"ed\", \"b\", \"universal\", \"hog\", \"aacc\"]"
   ]
  },
  {
   "cell_type": "code",
   "execution_count": 6,
   "id": "cardiovascular-mumbai",
   "metadata": {},
   "outputs": [],
   "source": [
    "assert list(map(oneway_dict, white1, white2)) == [True, True, False, True, False, True, False]"
   ]
  }
 ],
 "metadata": {
  "kernelspec": {
   "display_name": "Python 3",
   "language": "python",
   "name": "python3"
  },
  "language_info": {
   "codemirror_mode": {
    "name": "ipython",
    "version": 3
   },
   "file_extension": ".py",
   "mimetype": "text/x-python",
   "name": "python",
   "nbconvert_exporter": "python",
   "pygments_lexer": "ipython3",
   "version": "3.8.5"
  },
  "toc-autonumbering": false,
  "toc-showcode": false,
  "toc-showtags": false
 },
 "nbformat": 4,
 "nbformat_minor": 5
}
