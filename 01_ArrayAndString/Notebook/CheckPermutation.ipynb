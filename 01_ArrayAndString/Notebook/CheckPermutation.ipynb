{
 "cells": [
  {
   "cell_type": "code",
   "execution_count": 1,
   "id": "martial-grammar",
   "metadata": {},
   "outputs": [
    {
     "data": {
      "text/html": [
       "<style>table {float:left}</style> <style>td {font-size: 15px}</style> <style>tr {font-size: 15px}</style>\n"
      ],
      "text/plain": [
       "<IPython.core.display.HTML object>"
      ]
     },
     "metadata": {},
     "output_type": "display_data"
    }
   ],
   "source": [
    "%%html\n",
    "<style>table {float:left}</style> <style>td {font-size: 15px}</style> <style>tr {font-size: 15px}</style>"
   ]
  },
  {
   "cell_type": "markdown",
   "id": "concrete-omega",
   "metadata": {},
   "source": [
    "# Check Permutation\n",
    "\n",
    "    Given two strings, write a method to decide if one is a permutation of the other.\n",
    "    \n",
    "    A Permutation of a string: another string that contains same characters, but they can have different orders, only the order of characters can be different. For example, “abcd” and “dabc” are Permutation of each other.\n",
    "    \n",
    "    Please ask interviewer about whether blank spaces or case sensitive need to be considered. \"dog\" and \"god\" or \"Dog\" and \"dog\""
   ]
  },
  {
   "cell_type": "markdown",
   "id": "alternative-franchise",
   "metadata": {},
   "source": [
    "##### Black box\n",
    "|   Scenario   |Test Case| Output | \n",
    "| :---        |:----:|    :----:   | \n",
    "| a is a permutation      |\"amigo?\", \"go?ima\"| True       | \n",
    "| a is not a permutation   |\"12zz!?\", \"z21s.!\"| False        | "
   ]
  },
  {
   "cell_type": "code",
   "execution_count": 2,
   "id": "medieval-quick",
   "metadata": {},
   "outputs": [],
   "source": [
    "black1 = [\"amigo?\", \"12zz!?\"]\n",
    "black2 = [\"go?ima\", \"z21s.!\"]"
   ]
  },
  {
   "cell_type": "markdown",
   "id": "valuable-sherman",
   "metadata": {},
   "source": [
    "## Dictionary"
   ]
  },
  {
   "cell_type": "code",
   "execution_count": 3,
   "id": "smaller-montana",
   "metadata": {},
   "outputs": [],
   "source": [
    "def is_permute_dict(input1, input2):\n",
    "    if len(input1) != len(input2):\n",
    "        return False\n",
    "    dict1 = {}\n",
    "    dict2 = {}\n",
    "    for i in range(len(input1)):\n",
    "        if input1[i] in dict1:\n",
    "            dict1[input1[i]] += 1\n",
    "        else:\n",
    "            dict1[input1[i]] = 1\n",
    "        if input2[i] in dict2:\n",
    "            dict2[input2[i]] += 1\n",
    "        else:\n",
    "            dict2[input2[i]] = 1\n",
    "    return dict1 == dict2"
   ]
  },
  {
   "cell_type": "code",
   "execution_count": 4,
   "id": "recovered-edition",
   "metadata": {},
   "outputs": [],
   "source": [
    "assert list(map(is_permute_dict, black1, black2)) == [True, False]"
   ]
  },
  {
   "cell_type": "markdown",
   "id": "spanish-palestine",
   "metadata": {},
   "source": [
    "##### Path Coverage\n",
    "| Scenario      | Test Case | Output |\n",
    "| :---        |    :----:   | :----: |\n",
    "| Length Not Equal | \"hello1\", \"hello\" | False\n",
    "| Zero Inputs      | \"\", \"\" | True\n",
    "| Zero Loop      | \"hey*\", \"\" | False\n",
    "| One Loop| \"a\", \"b\"| False|\n",
    "| Average Permute| \"dogod\", \"goddo\"| True|\n",
    "| Average Not Permute| \"flask\", \"flush\"| False|"
   ]
  },
  {
   "cell_type": "code",
   "execution_count": 5,
   "id": "former-grocery",
   "metadata": {},
   "outputs": [],
   "source": [
    "white1 = [\"hello1\", \"\", \"hey*\", \"a\", \"dogod\", \"flask\"]\n",
    "white2 = [\"hello\", \"\", \"\", \"b\", \"goddo\", \"flush\"]"
   ]
  },
  {
   "cell_type": "code",
   "execution_count": 6,
   "id": "patent-recording",
   "metadata": {},
   "outputs": [],
   "source": [
    "assert list(map(is_permute_dict, white1, white2)) == [False, True, False, False, True, False]"
   ]
  },
  {
   "cell_type": "markdown",
   "id": "nuclear-teens",
   "metadata": {},
   "source": [
    "# Array"
   ]
  },
  {
   "cell_type": "code",
   "execution_count": 7,
   "id": "balanced-cover",
   "metadata": {},
   "outputs": [],
   "source": [
    "def is_permute_arr(input1, input2):\n",
    "    if len(input1) != len(input2):\n",
    "        return False\n",
    "    arr1 = [0]*128\n",
    "    arr2 = [0]*128\n",
    "    for i in range(len(input1)):\n",
    "        arr1[ord(input1[i])] += 1\n",
    "        arr2[ord(input2[i])] += 1\n",
    "    return arr1 == arr2"
   ]
  },
  {
   "cell_type": "code",
   "execution_count": 8,
   "id": "applicable-horse",
   "metadata": {},
   "outputs": [],
   "source": [
    "assert list(map(is_permute_arr, black1, black2)) == [True, False]"
   ]
  },
  {
   "cell_type": "code",
   "execution_count": 9,
   "id": "impressive-invention",
   "metadata": {},
   "outputs": [],
   "source": [
    "assert list(map(is_permute_arr, white1, white2)) == [False, True, False, False, True, False]"
   ]
  },
  {
   "cell_type": "markdown",
   "id": "expressed-performance",
   "metadata": {},
   "source": [
    "##### Path Coverage\n",
    "\"~\" is the last printable character in 128 ASCII table\n",
    "\n",
    "| Senario      | Test Case | OutPut |\n",
    "| :---        |    :----:   | :----: |\n",
    "| Max Not Permute  | \"\\~triangle\\~\", \"\\~triangle\\~\"  | False |\n",
    "| Max Permute  | \"mil~k\"       | True |"
   ]
  },
  {
   "cell_type": "code",
   "execution_count": 10,
   "id": "optional-hometown",
   "metadata": {},
   "outputs": [],
   "source": [
    "new_white1 = [\"~1246this\", \"mil~k\"]\n",
    "new_white2 = [\"this~1246\", \"mlk~k\"]\n",
    "assert list(map(is_permute_arr, new_white1, new_white2)) == [True, False]"
   ]
  }
 ],
 "metadata": {
  "kernelspec": {
   "display_name": "Python 3",
   "language": "python",
   "name": "python3"
  },
  "language_info": {
   "codemirror_mode": {
    "name": "ipython",
    "version": 3
   },
   "file_extension": ".py",
   "mimetype": "text/x-python",
   "name": "python",
   "nbconvert_exporter": "python",
   "pygments_lexer": "ipython3",
   "version": "3.8.5"
  }
 },
 "nbformat": 4,
 "nbformat_minor": 5
}
