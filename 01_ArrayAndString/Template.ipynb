{
 "cells": [
  {
   "cell_type": "code",
   "execution_count": 1,
   "id": "funky-meditation",
   "metadata": {},
   "outputs": [
    {
     "data": {
      "text/html": [
       "<style>table {float:left}</style> <style>td {font-size: 15px}</style> <style>tr {font-size: 15px}</style>\n"
      ],
      "text/plain": [
       "<IPython.core.display.HTML object>"
      ]
     },
     "metadata": {},
     "output_type": "display_data"
    }
   ],
   "source": [
    "%%html\n",
    "<style>table {float:left}</style> <style>td {font-size: 15px}</style> <style>tr {font-size: 15px}</style>"
   ]
  },
  {
   "cell_type": "markdown",
   "id": "specific-nebraska",
   "metadata": {},
   "source": [
    "# Problem\n",
    "\n",
    "    problem detail\n",
    "    　\n",
    "    …"
   ]
  },
  {
   "cell_type": "markdown",
   "id": "demonstrated-remove",
   "metadata": {},
   "source": [
    "##### Black box\n",
    "| Scenario |Test Case| Output | \n",
    "| :---        |:----:|    :----:   | \n",
    "| 1 | | | "
   ]
  },
  {
   "cell_type": "code",
   "execution_count": 1,
   "id": "executed-brazil",
   "metadata": {},
   "outputs": [],
   "source": [
    "black1 = [\"\"]"
   ]
  },
  {
   "cell_type": "markdown",
   "id": "intensive-jewel",
   "metadata": {},
   "source": [
    "## Method 1"
   ]
  },
  {
   "cell_type": "code",
   "execution_count": 4,
   "id": "demanding-antibody",
   "metadata": {},
   "outputs": [],
   "source": [
    "def method1(input1):\n",
    "    return True"
   ]
  },
  {
   "cell_type": "code",
   "execution_count": 5,
   "id": "sharp-modeling",
   "metadata": {},
   "outputs": [],
   "source": [
    "assert list(map(method1, black1)) == [True]"
   ]
  },
  {
   "cell_type": "markdown",
   "id": "pediatric-concrete",
   "metadata": {},
   "source": [
    "##### Path Coverage\n",
    "| Scenario      | Test Case | Output |\n",
    "| :---        |    :----:   | :----: |\n",
    "| empty |  | False |\n",
    "| zero loop | | True |\n",
    "| one loop| | False |\n",
    "| average loop | | False |\n",
    "| max loop| | True |"
   ]
  },
  {
   "cell_type": "code",
   "execution_count": 6,
   "id": "digital-james",
   "metadata": {},
   "outputs": [],
   "source": [
    "white1 = [\"\"]"
   ]
  },
  {
   "cell_type": "code",
   "execution_count": 7,
   "id": "liquid-technique",
   "metadata": {},
   "outputs": [],
   "source": [
    "assert list(map(method1, white1)) == [True]"
   ]
  },
  {
   "cell_type": "markdown",
   "id": "animal-progress",
   "metadata": {},
   "source": [
    "# Method 2"
   ]
  },
  {
   "cell_type": "code",
   "execution_count": 12,
   "id": "protective-irish",
   "metadata": {},
   "outputs": [],
   "source": [
    "def method2(input1, input2):\n",
    "    return False"
   ]
  },
  {
   "cell_type": "code",
   "execution_count": 15,
   "id": "clear-richmond",
   "metadata": {},
   "outputs": [],
   "source": [
    "assert list(map(method2, black1, black1)) == [False]"
   ]
  },
  {
   "cell_type": "code",
   "execution_count": 16,
   "id": "sapphire-rugby",
   "metadata": {},
   "outputs": [],
   "source": [
    "assert list(map(method2, white1, white1)) == [False]"
   ]
  },
  {
   "cell_type": "markdown",
   "id": "joint-memorabilia",
   "metadata": {},
   "source": [
    "##### Path Coverage\n",
    "| Scenario      | Test Case | Output |\n",
    "| :---        |    :----:   | :----: |\n",
    "| 1  | | False |\n",
    "| 2  | | True |"
   ]
  },
  {
   "cell_type": "code",
   "execution_count": 17,
   "id": "professional-converter",
   "metadata": {},
   "outputs": [],
   "source": [
    "new_white1 = [\"\"]\n",
    "new_white2 = [\"\"]\n",
    "assert list(map(method2, new_white1, new_white2)) == [False]"
   ]
  }
 ],
 "metadata": {
  "kernelspec": {
   "display_name": "Python 3",
   "language": "python",
   "name": "python3"
  },
  "language_info": {
   "codemirror_mode": {
    "name": "ipython",
    "version": 3
   },
   "file_extension": ".py",
   "mimetype": "text/x-python",
   "name": "python",
   "nbconvert_exporter": "python",
   "pygments_lexer": "ipython3",
   "version": "3.8.5"
  }
 },
 "nbformat": 4,
 "nbformat_minor": 5
}
