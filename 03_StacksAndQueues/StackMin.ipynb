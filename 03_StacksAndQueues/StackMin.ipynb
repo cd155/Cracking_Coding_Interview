{
 "cells": [
  {
   "cell_type": "markdown",
   "id": "6bca7c3a-9ad0-4caf-b514-d15117cbcd1b",
   "metadata": {},
   "source": [
    "# Problem\n",
    "\n",
    "    How would you design a stack which, in addition to push and pop, has a function min which returns the minimum element? Push, pop and min should all operate in 0(1) time."
   ]
  },
  {
   "cell_type": "markdown",
   "id": "97d2a3ca-c948-460e-a6a3-a505930fba89",
   "metadata": {},
   "source": [
    "## Method 1\n",
    "\n",
    "    Divide the array into three piece equally.Eg,assume given an array with length 30, so each parts are range 0-9, 10-19, 20-29 respectively. Assigned each range to each stack. Each stack track the start index and end index, so they don't overlap each other. After that, use each array to represent a single stack."
   ]
  },
  {
   "cell_type": "code",
   "execution_count": null,
   "id": "df851e35-cc03-455a-aba1-389e1c0fe8e2",
   "metadata": {},
   "outputs": [],
   "source": []
  }
 ],
 "metadata": {
  "kernelspec": {
   "display_name": "Python 3",
   "language": "python",
   "name": "python3"
  },
  "language_info": {
   "codemirror_mode": {
    "name": "ipython",
    "version": 3
   },
   "file_extension": ".py",
   "mimetype": "text/x-python",
   "name": "python",
   "nbconvert_exporter": "python",
   "pygments_lexer": "ipython3",
   "version": "3.8.5"
  }
 },
 "nbformat": 4,
 "nbformat_minor": 5
}
