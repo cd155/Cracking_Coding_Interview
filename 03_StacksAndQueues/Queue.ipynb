{
 "cells": [
  {
   "cell_type": "code",
   "execution_count": 1,
   "id": "d655cb82-f67a-4068-9f31-34576ae1ee19",
   "metadata": {},
   "outputs": [],
   "source": [
    "import nbimporter\n",
    "from LinkedList import *"
   ]
  },
  {
   "cell_type": "code",
   "execution_count": 2,
   "id": "c758ab5c-c8ac-4964-877b-246ec1457684",
   "metadata": {},
   "outputs": [],
   "source": [
    "class my_queue:\n",
    "    \n",
    "    def __init__(self):\n",
    "        self.first = None\n",
    "        self.last = None\n",
    "    \n",
    "    def add(self, item):\n",
    "        t = node(item)\n",
    "        if self.last != None:\n",
    "            self.last.next = t\n",
    "        self.last = t\n",
    "        if self.first == None:\n",
    "            self.first = self.last\n",
    "    \n",
    "    def remove(self):\n",
    "        if self.first == None:\n",
    "            raise Exception(\"empty queue\")\n",
    "        data = self.first.data\n",
    "        self.first = self.first.next\n",
    "        if self.first == None:\n",
    "            self.last = None\n",
    "        return data\n",
    "    \n",
    "    def peek(self):\n",
    "        if self.first == None:\n",
    "            raise Exception(\"empty queue\")\n",
    "        return self.first.data\n",
    "    \n",
    "    def is_empty(self):\n",
    "        return self.first == None"
   ]
  },
  {
   "cell_type": "code",
   "execution_count": 3,
   "id": "bdfd9ba8-c6f8-4cb3-95f5-2d5734cd04df",
   "metadata": {},
   "outputs": [],
   "source": [
    "# for debugging\n",
    "def print_queue(queue):\n",
    "    n = queue.first\n",
    "    while n != None:\n",
    "        print(n.data)\n",
    "        n = n.next"
   ]
  },
  {
   "cell_type": "code",
   "execution_count": 4,
   "id": "6f21524b-7655-46dc-8ac2-5709456585ec",
   "metadata": {},
   "outputs": [],
   "source": [
    "queue = my_queue()"
   ]
  },
  {
   "cell_type": "code",
   "execution_count": 5,
   "id": "ed6a3101-df25-4ad1-be0c-53bafb69c62b",
   "metadata": {},
   "outputs": [],
   "source": [
    "# queue.remove()\n",
    "# queue.peek()"
   ]
  },
  {
   "cell_type": "code",
   "execution_count": 6,
   "id": "c2c455b0-45aa-4f03-af03-28c971088eb9",
   "metadata": {},
   "outputs": [],
   "source": [
    "assert queue.is_empty()"
   ]
  },
  {
   "cell_type": "code",
   "execution_count": 7,
   "id": "a6a3c9e6-e0d6-4909-bc52-5513e1fb9313",
   "metadata": {},
   "outputs": [
    {
     "name": "stdout",
     "output_type": "stream",
     "text": [
      "5\n",
      "6\n",
      "5\n",
      "10\n"
     ]
    }
   ],
   "source": [
    "queue.add(5)\n",
    "queue.add(6)\n",
    "queue.add(5)\n",
    "queue.add(10)\n",
    "print_queue(queue)"
   ]
  },
  {
   "cell_type": "code",
   "execution_count": 8,
   "id": "28142b28-105c-41ac-b0c4-864fe6bda58b",
   "metadata": {},
   "outputs": [
    {
     "name": "stdout",
     "output_type": "stream",
     "text": [
      "6\n",
      "5\n",
      "10\n"
     ]
    }
   ],
   "source": [
    "queue.remove()\n",
    "print_queue(queue)"
   ]
  },
  {
   "cell_type": "code",
   "execution_count": 9,
   "id": "27e777f2-6564-4c81-92cb-14bb01ea5556",
   "metadata": {},
   "outputs": [],
   "source": [
    "assert queue.peek() == 6\n",
    "assert not queue.is_empty()"
   ]
  }
 ],
 "metadata": {
  "kernelspec": {
   "display_name": "Python 3",
   "language": "python",
   "name": "python3"
  },
  "language_info": {
   "codemirror_mode": {
    "name": "ipython",
    "version": 3
   },
   "file_extension": ".py",
   "mimetype": "text/x-python",
   "name": "python",
   "nbconvert_exporter": "python",
   "pygments_lexer": "ipython3",
   "version": "3.8.5"
  }
 },
 "nbformat": 4,
 "nbformat_minor": 5
}
