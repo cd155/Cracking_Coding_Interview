{
 "cells": [
  {
   "cell_type": "code",
   "execution_count": 1,
   "id": "surrounded-nelson",
   "metadata": {},
   "outputs": [
    {
     "data": {
      "text/html": [
       "<style>table {float:left}</style> <style>td {font-size: 15px}</style> <style>tr {font-size: 15px}</style>\n"
      ],
      "text/plain": [
       "<IPython.core.display.HTML object>"
      ]
     },
     "metadata": {},
     "output_type": "display_data"
    }
   ],
   "source": [
    "%%html\n",
    "<style>table {float:left}</style> <style>td {font-size: 15px}</style> <style>tr {font-size: 15px}</style>"
   ]
  },
  {
   "cell_type": "markdown",
   "id": "friendly-clause",
   "metadata": {},
   "source": [
    "# String Compression\n",
    "\n",
    "    Implement a method to perform basic string compression using the counts of repeated characters. For example, the string \"aabcccccaaa\" would become \"a2b1c5a3\".\n",
    "    \n",
    "    If the \"compressed\" string would not become smaller than the original string, your method should return the original string. You can assume the string has only uppercase and lowercase letters (a - z)."
   ]
  },
  {
   "cell_type": "markdown",
   "id": "saved-thesis",
   "metadata": {},
   "source": [
    "##### Black box\n",
    "|   Input(a)   |Test Case| Output | \n",
    "| :---        |:----:|    :----:   | \n",
    "| Normal | \"aabcccccaaa\" | \"a2b1c5a3\" | "
   ]
  },
  {
   "cell_type": "code",
   "execution_count": 2,
   "id": "offshore-tobago",
   "metadata": {},
   "outputs": [],
   "source": [
    "black1 = [\"aabcccccaaa\"]"
   ]
  },
  {
   "cell_type": "markdown",
   "id": "fallen-resident",
   "metadata": {},
   "source": [
    "## Current and Runner Compare"
   ]
  },
  {
   "cell_type": "code",
   "execution_count": 3,
   "id": "welsh-psychology",
   "metadata": {},
   "outputs": [],
   "source": [
    "def string_compress(input1):\n",
    "    if len(input1) == 0 :\n",
    "        return \"\" \n",
    "    \n",
    "    current = node(input1[0])\n",
    "    compressed = \"\"\n",
    "    for i in range(1, len(input1)):\n",
    "        runner = input1[i]\n",
    "        if runner == current.name:\n",
    "            current.count += 1\n",
    "        else:\n",
    "            compressed += current.name\n",
    "            compressed += str(current.count)\n",
    "            current = node(runner)\n",
    "    compressed += current.name\n",
    "    compressed += str(current.count)\n",
    "    return compressed\n",
    "\n",
    "class node:\n",
    "    def __init__(self, name):\n",
    "        self.name = name\n",
    "        self.count = 1"
   ]
  },
  {
   "cell_type": "code",
   "execution_count": 4,
   "id": "immediate-recipient",
   "metadata": {},
   "outputs": [],
   "source": [
    "assert list(map(string_compress, black1)) == [\"a2b1c5a3\"]"
   ]
  },
  {
   "cell_type": "markdown",
   "id": "australian-causing",
   "metadata": {},
   "source": [
    "##### Path Coverage\n",
    "| Scenario      | Test Case | Output |\n",
    "| :---        |    :----:   | :----: |\n",
    "| empty | \"\" | \"\" |\n",
    "| zero loop | \"a\" | \"a1\" |\n",
    "| one loop| \"ab\" | \"a1b1\" |\n",
    "| average loop | \"aaaaapplllllle\"| \"a5p2l6e1\" |\n",
    "| multiple single characters | \"aaaaaaaa\" | \"a8\" |"
   ]
  },
  {
   "cell_type": "code",
   "execution_count": 5,
   "id": "liberal-hotel",
   "metadata": {},
   "outputs": [],
   "source": [
    "white1 = [\"\", \"a\", \"ab\", \"aaaaapplllllle\", \"aaaaaaaa\"]"
   ]
  },
  {
   "cell_type": "code",
   "execution_count": 6,
   "id": "critical-childhood",
   "metadata": {},
   "outputs": [],
   "source": [
    "assert list(map(string_compress, white1)) == [\"\", \"a1\", \"a1b1\", \"a5p2l6e1\", \"a8\"]"
   ]
  }
 ],
 "metadata": {
  "kernelspec": {
   "display_name": "Python 3",
   "language": "python",
   "name": "python3"
  },
  "language_info": {
   "codemirror_mode": {
    "name": "ipython",
    "version": 3
   },
   "file_extension": ".py",
   "mimetype": "text/x-python",
   "name": "python",
   "nbconvert_exporter": "python",
   "pygments_lexer": "ipython3",
   "version": "3.8.5"
  },
  "toc-autonumbering": false,
  "toc-showcode": false,
  "toc-showmarkdowntxt": true,
  "toc-showtags": false
 },
 "nbformat": 4,
 "nbformat_minor": 5
}
