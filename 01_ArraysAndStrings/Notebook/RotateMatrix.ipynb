{
 "cells": [
  {
   "cell_type": "code",
   "execution_count": 1,
   "id": "funky-meditation",
   "metadata": {},
   "outputs": [
    {
     "data": {
      "text/html": [
       "<style>table {float:left}</style> <style>td {font-size: 15px}</style> <style>tr {font-size: 15px}</style>\n"
      ],
      "text/plain": [
       "<IPython.core.display.HTML object>"
      ]
     },
     "metadata": {},
     "output_type": "display_data"
    }
   ],
   "source": [
    "%%html\n",
    "<style>table {float:left}</style> <style>td {font-size: 15px}</style> <style>tr {font-size: 15px}</style>"
   ]
  },
  {
   "cell_type": "markdown",
   "id": "specific-nebraska",
   "metadata": {},
   "source": [
    "# Rotate Matrix\n",
    "\n",
    "    Given an image represented by an NxN matrix, where each pixel in the image is 4 bytes, write a method to rotate the image by 90 degrees. Can you do this in place?\n",
    "\n",
    "### Assumption\n",
    "    default at clockwise, negative degrees are allowed, negative means counter-clockwise"
   ]
  },
  {
   "cell_type": "markdown",
   "id": "demonstrated-remove",
   "metadata": {},
   "source": [
    "##### Black box\n",
    "|   Input(a)   |Test Case| OutPut | \n",
    "| :---        |:----:|    :----:   | \n",
    "| positive degree | [[0, 1, 2, 3], [4, 5, 6, 7], [8, 9, 10, 11], [12, 13, 14, 15]], 90 | [12, 8, 4, 0], [13, 9, 5, 1], [14, 10, 6, 2], [15, 11, 7, 3] |\n",
    "| positive greater than 360 | [[0, 1, 2, 3], [4, 5, 6, 7], [8, 9, 10, 11], [12, 13, 14, 15]], 450 | [12, 8, 4, 0], [13, 9, 5, 1], [14, 10, 6, 2], [15, 11, 7, 3] |\n",
    "| negative degree | [[0, 1, 2, 3], [4, 5, 6, 7], [8, 9, 10, 11], [12, 13, 14, 15]], -90 | [3, 7, 11, 15], [2, 6, 10, 14], [1, 5, 9, 13], [0, 4, 8, 12] | \n",
    "| negative smaller than -360 | [[0, 1, 2, 3], [4, 5, 6, 7], [8, 9, 10, 11], [12, 13, 14, 15]], -450 | [3, 7, 11, 15], [2, 6, 10, 14], [1, 5, 9, 13], [0, 4, 8, 12] |"
   ]
  },
  {
   "cell_type": "code",
   "execution_count": 33,
   "id": "executed-brazil",
   "metadata": {},
   "outputs": [],
   "source": [
    "black1 = [[[0, 1, 2, 3], [4, 5, 6, 7], [8, 9, 10, 11], [12, 13, 14, 15]], \n",
    "          [[0, 1, 2, 3], [4, 5, 6, 7], [8, 9, 10, 11], [12, 13, 14, 15]], \n",
    "          [[0, 1, 2, 3], [4, 5, 6, 7], [8, 9, 10, 11], [12, 13, 14, 15]], \n",
    "          [[0, 1, 2, 3], [4, 5, 6, 7], [8, 9, 10, 11], [12, 13, 14, 15]]]\n",
    "black2 = [90, 450, -90, -450]"
   ]
  },
  {
   "cell_type": "markdown",
   "id": "29541d0d-569b-4339-a355-ec495a75eab0",
   "metadata": {},
   "source": [
    "## Method 1\n",
    "NxN matrix, N=4\n",
    "\n",
    "    [ 0,  1,  2,  3]    [12,  8, 4, 0]     0,0 -> 0,3  0,1 -> 1,3  0,2 -> 2,3  0,3 -> 3,3\n",
    "    [ 4,  5,  6,  7]    [13,  9, 5, 1]     1,0 -> 0,2  1,1 -> 1,2  1,2 -> 2,2  1,3 -> 3,2\n",
    "    [ 8,  9, 10, 11]    [14, 10, 6, 2]     2,0 -> 0,1  2,1 -> 1,1  2,2 -> 2,1  2,3 -> 3,1\n",
    "    [12, 13, 14, 15]    [15, 11, 7, 3]     3,0 -> 0,0  3,1 -> 1,0  3,2 -> 2,0  3,3 -> 3,0\n",
    "\n",
    "Change pattern: x,y -> y,N-1-x\n",
    "\n",
    "To take 0,0 as an example, the change: 0,0 -> 0,3 -> 3,3 -> 3,0 -> 0,0\n",
    "\n",
    "Change pattern: x,y -> y,N-1-x"
   ]
  },
  {
   "cell_type": "code",
   "execution_count": 34,
   "id": "demanding-antibody",
   "metadata": {},
   "outputs": [],
   "source": [
    "def rotate_matrix(input1):\n",
    "    size = len(input1)\n",
    "\n",
    "    # initialize the outer ring size\n",
    "    outer_top = 0\n",
    "    outer_bottom = size - 1\n",
    "    \n",
    "    # iterate size/2 times\n",
    "    for i in range(0, int(size/2)):\n",
    "\n",
    "        # iterate times base on the outer ring\n",
    "        for j in range(outer_top, outer_bottom):\n",
    "            x = i\n",
    "            y = j\n",
    "            buffer = input1[x][y]\n",
    "            for _ in range(0, 4):\n",
    "                previous_x = x\n",
    "                x = y\n",
    "                y = size-1-previous_x\n",
    "                \n",
    "                # swap values\n",
    "                temp = input1[x][y]\n",
    "                input1[x][y] = buffer\n",
    "                buffer = temp\n",
    "        \n",
    "        outer_top += 1\n",
    "        outer_bottom -= 1\n",
    "\n",
    "    return input1\n",
    "\n",
    "def rotate_matrix_with_degree(matrix, degree):\n",
    "    reduced_degree = abs(degree)%360\n",
    "    times = 0\n",
    "    if degree < 0:\n",
    "        times = 4 - reduced_degree/90\n",
    "    else:\n",
    "        times = reduced_degree/90\n",
    "    \n",
    "    for _ in range(0, int(times)):\n",
    "        rotate_matrix(matrix)\n",
    "    \n",
    "    return matrix"
   ]
  },
  {
   "cell_type": "code",
   "execution_count": 35,
   "id": "a8caec42-679e-42b3-9a87-c928c2f859b2",
   "metadata": {},
   "outputs": [],
   "source": [
    "# matrix changed when excute cell multiple times\n",
    "assert list(map(rotate_matrix_with_degree, black1, black2)) == [\n",
    "    [[12, 8, 4, 0], [13, 9, 5, 1], [14, 10, 6, 2], [15, 11, 7, 3]], \n",
    "    [[12, 8, 4, 0], [13, 9, 5, 1], [14, 10, 6, 2], [15, 11, 7, 3]], \n",
    "    [[3, 7, 11, 15], [2, 6, 10, 14], [1, 5, 9, 13], [0, 4, 8, 12]], \n",
    "    [[3, 7, 11, 15], [2, 6, 10, 14], [1, 5, 9, 13], [0, 4, 8, 12]]]"
   ]
  },
  {
   "cell_type": "markdown",
   "id": "pediatric-concrete",
   "metadata": {},
   "source": [
    "##### Path Coverage\n",
    "| Senario      | Test Case | OutPut |\n",
    "| :---        |    :----:   | :----: |\n",
    "| empty matrix | [[]], 90 | [[]] |\n",
    "| zero degree | [[1, 2, 3], [4, 5, 6], [7, 8, 9]], 0| [[1, 2, 3], [4, 5, 6], [7, 8, 9]]|\n",
    "| Size One| [[5]], -90 | [[5]]|\n",
    "| Even Size| [[0, 1, 2, 3], [4, 5, 6, 7], [8, 9, 10, 11], [12, 13, 14, 15]], 180 | [[15, 14, 13, 12], [11, 10, 9, 8], [7, 6, 5, 4], [3, 2, 1, 0]]|\n",
    "| Odd Size | [[1, 2, 3], [4, 5, 6], [7, 8, 9]], -270 | [[7, 4, 1], [8, 5, 2], [9, 6, 3]] |"
   ]
  },
  {
   "cell_type": "code",
   "execution_count": 37,
   "id": "digital-james",
   "metadata": {},
   "outputs": [],
   "source": [
    "white1 = [[[]], \n",
    "          [[1, 2, 3], [4, 5, 6], [7, 8, 9]], \n",
    "          [[5]], \n",
    "          [[0, 1, 2, 3], [4, 5, 6, 7], [8, 9, 10, 11], [12, 13, 14, 15]],\n",
    "          [[1, 2, 3], [4, 5, 6], [7, 8, 9]]]\n",
    "\n",
    "white2 = [90, 0, -90, 180, -270]"
   ]
  },
  {
   "cell_type": "code",
   "execution_count": 38,
   "id": "liquid-technique",
   "metadata": {},
   "outputs": [],
   "source": [
    "assert list(map(rotate_matrix_with_degree, white1, white2)) == [\n",
    "    [[]],\n",
    "    [[1, 2, 3], [4, 5, 6], [7, 8, 9]],\n",
    "    [[5]],\n",
    "    [[15, 14, 13, 12], [11, 10, 9, 8], [7, 6, 5, 4], [3, 2, 1, 0]],\n",
    "    [[7, 4, 1], [8, 5, 2], [9, 6, 3]]]"
   ]
  }
 ],
 "metadata": {
  "kernelspec": {
   "display_name": "Python 3",
   "language": "python",
   "name": "python3"
  },
  "language_info": {
   "codemirror_mode": {
    "name": "ipython",
    "version": 3
   },
   "file_extension": ".py",
   "mimetype": "text/x-python",
   "name": "python",
   "nbconvert_exporter": "python",
   "pygments_lexer": "ipython3",
   "version": "3.8.5"
  }
 },
 "nbformat": 4,
 "nbformat_minor": 5
}
