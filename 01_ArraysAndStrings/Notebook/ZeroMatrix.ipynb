{
 "cells": [
  {
   "cell_type": "code",
   "execution_count": 1,
   "id": "funky-meditation",
   "metadata": {},
   "outputs": [
    {
     "data": {
      "text/html": [
       "<style>table {float:left}</style> <style>td {font-size: 15px}</style> <style>tr {font-size: 15px}</style>\n"
      ],
      "text/plain": [
       "<IPython.core.display.HTML object>"
      ]
     },
     "metadata": {},
     "output_type": "display_data"
    }
   ],
   "source": [
    "%%html\n",
    "<style>table {float:left}</style> <style>td {font-size: 15px}</style> <style>tr {font-size: 15px}</style>"
   ]
  },
  {
   "cell_type": "markdown",
   "id": "specific-nebraska",
   "metadata": {},
   "source": [
    "# Zero Matrix\n",
    "    Write an algorithm such that if an element in an MxN matrix is 0, its entire row and column are set to 0."
   ]
  },
  {
   "cell_type": "markdown",
   "id": "demonstrated-remove",
   "metadata": {},
   "source": [
    "##### Black box\n",
    "|   Scenario   |Test Case| Output | \n",
    "| :---        |:----:|    :----:   | \n",
    "| Normal Case | [[1, 2, 3], [4, 0, 6], [7, 8, 9]] | [[1, 0, 3], [0, 0, 0], [7, 0, 9]] | \n",
    "| Completed Case | [[1, 2, 3, 4], [5, 6, 7, 8], [9, 10, 11, 12], [13, 14, 15, 16]] | [[1, 2, 3, 4], [5, 6, 7, 8], [9, 10, 11, 12], [13, 14, 15, 16]] | "
   ]
  },
  {
   "cell_type": "code",
   "execution_count": 2,
   "id": "executed-brazil",
   "metadata": {},
   "outputs": [],
   "source": [
    "import copy\n",
    "black1 = [\n",
    "    [[1, 2, 3], [4, 0, 6], [7, 8, 9]], \n",
    "    [[1, 2, 3, 4], [5, 6, 7, 8], [9, 10, 11, 12], [13, 14, 15, 16]]]\n",
    "black1_copy = copy.deepcopy(black1)"
   ]
  },
  {
   "cell_type": "markdown",
   "id": "intensive-jewel",
   "metadata": {},
   "source": [
    "## Method 1 In Place"
   ]
  },
  {
   "cell_type": "code",
   "execution_count": 3,
   "id": "demanding-antibody",
   "metadata": {},
   "outputs": [],
   "source": [
    "def zero_matrix_inplace(input1):\n",
    "    size = len(input1)\n",
    "    \n",
    "    is_first_row_zero = False\n",
    "    is_first_column_zero = False\n",
    "    \n",
    "    # determin whether first row and first column are zero\n",
    "    for i in range(0, size):\n",
    "        if input1[0][i] == 0:\n",
    "            is_first_row_zero = True\n",
    "        if input1[i][0] == 0:\n",
    "            is_first_column_zero = True\n",
    "            \n",
    "    # use first row and first column to store data, there for skip first row and first column\n",
    "    for i in range(1, size):\n",
    "        for j in range(1, size):\n",
    "            if input1[i][j] == 0:\n",
    "                input1[0][j] = 0\n",
    "                input1[i][0] = 0\n",
    "    \n",
    "    # update zero base on frist row and first column\n",
    "    for j in range(1, size):\n",
    "        if input1[0][j] == 0:\n",
    "            for i in range(1, size):\n",
    "                input1[i][j] = 0\n",
    "        if input1[j][0] == 0:\n",
    "            input1[j] = [0]*size\n",
    "    \n",
    "    # update first row and first column\n",
    "    if is_first_row_zero:\n",
    "        input1[0] = [0]*size\n",
    "    if is_first_column_zero:\n",
    "        for i in range(0, size):\n",
    "            input1[i][0] = 0\n",
    "            \n",
    "    return input1"
   ]
  },
  {
   "cell_type": "code",
   "execution_count": 4,
   "id": "sharp-modeling",
   "metadata": {},
   "outputs": [],
   "source": [
    "black1_ans = [\n",
    "    [[1, 0, 3], [0, 0, 0], [7, 0, 9]], \n",
    "    [[1, 2, 3, 4], [5, 6, 7, 8], [9, 10, 11, 12], [13, 14, 15, 16]]]\n",
    "\n",
    "assert list(map(zero_matrix_inplace, black1)) == black1_ans"
   ]
  },
  {
   "cell_type": "markdown",
   "id": "pediatric-concrete",
   "metadata": {},
   "source": [
    "##### Path Coverage\n",
    "| Scenario      | Test Case | Output |\n",
    "| :---        |    :----:   | :----: |\n",
    "| empty | [] | []\n",
    "| matrix size one | [[1]] | [[1]]|\n",
    "| matrix zero in first row| [[1, 0], [3, 4]] | [[0, 0], [3, 0]] |\n",
    "| matrix zero in first column | [[1, 2], [0, 4]] | [[0, 2], [0, 0]] |\n",
    "| normal case | [[1, 2, 3], [4, 5, 6], [7, 0, 9]] | [[1, 0, 3], [4, 0, 6], [0, 0, 0]] |\n",
    "| matrix zero in 0,0 | [[0, 2], [3, 4]] | [[0, 0], [0, 4]] |"
   ]
  },
  {
   "cell_type": "code",
   "execution_count": 5,
   "id": "digital-james",
   "metadata": {},
   "outputs": [],
   "source": [
    "white1 = [\n",
    "    [],\n",
    "    [[1]],\n",
    "    [[1, 0], [3, 4]],\n",
    "    [[1, 2], [0, 4]],\n",
    "    [[1, 2, 3], [4, 5, 6], [7, 0, 9]],\n",
    "    [[0, 2], [3, 4]],\n",
    "    [[0, 0], [3, 4]]\n",
    "]\n",
    "white1_copy = copy.deepcopy(white1)"
   ]
  },
  {
   "cell_type": "code",
   "execution_count": 6,
   "id": "liquid-technique",
   "metadata": {},
   "outputs": [],
   "source": [
    "white1_ans = [\n",
    "    [],\n",
    "    [[1]],\n",
    "    [[0, 0], [3, 0]],\n",
    "    [[0, 2], [0, 0]],\n",
    "    [[1, 0, 3], [4, 0, 6], [0, 0, 0]],\n",
    "    [[0, 0], [0, 4]],\n",
    "    [[0, 0], [0, 0]]]\n",
    "\n",
    "assert list(map(zero_matrix_inplace, white1)) == white1_ans"
   ]
  },
  {
   "cell_type": "markdown",
   "id": "08f7c0a7-0c5c-4a54-833a-c3b964f9dbfe",
   "metadata": {},
   "source": [
    "## Method 2 Dictionary"
   ]
  },
  {
   "cell_type": "code",
   "execution_count": 7,
   "id": "c92fba58-3402-43f9-9c17-028f40aa790c",
   "metadata": {},
   "outputs": [],
   "source": [
    "def zero_matrix_dict(input1):\n",
    "    size = len(input1)\n",
    "    row_arr = [False]*size\n",
    "    column_arr = [False]*size\n",
    "    \n",
    "    for i in range(0, size):\n",
    "        for j in range(0, size):\n",
    "            if input1[i][j] == 0:\n",
    "                row_arr[i] = True\n",
    "                column_arr[j] = True\n",
    "                \n",
    "    for i in range(0, size):\n",
    "        for j in range(0, size):\n",
    "            if row_arr[i] or column_arr[j]:\n",
    "                input1[i][j] = 0                \n",
    "    \n",
    "    return input1"
   ]
  },
  {
   "cell_type": "code",
   "execution_count": 8,
   "id": "1280dfac-4d5f-403a-9e41-45df20b320fc",
   "metadata": {},
   "outputs": [],
   "source": [
    "assert list(map(zero_matrix_dict, black1_copy)) == black1_ans"
   ]
  },
  {
   "cell_type": "code",
   "execution_count": 9,
   "id": "aed7529b-017e-467c-89c8-6f37057300aa",
   "metadata": {},
   "outputs": [],
   "source": [
    "assert list(map(zero_matrix_inplace, white1_copy)) == white1_ans"
   ]
  },
  {
   "cell_type": "markdown",
   "id": "f8610c91-dea9-41ae-abc9-2cb9ea843840",
   "metadata": {},
   "source": [
    "##### Path Coverage\n",
    "| Scenario      | Test Case | Output |\n",
    "| :---        |    :----:   | :----: |\n",
    "| Empty  | [] | [] |\n",
    "| Size one  | [[0]] | [[0]] |\n",
    "| First Row Zero | [[1, 0, 3, 4], [5, 6, 7, 8], [9, 10, 11, 12], [13, 14, 15, 16]] | [[0, 0, 0, 0], [5, 0, 7, 8], [9, 0, 11, 12], [13, 0, 15, 16]] |\n",
    "| Last Row Zero | [[1, 2, 3, 4], [5, 6, 7, 8], [9, 10, 11, 12], [13, 14, 0, 16]] | [[1, 2, 0, 4], [5, 6, 0, 8], [9, 10, 0, 12], [0, 0, 0, 0]] |\n",
    "| First Column Zero | [[1, 2, 3, 4], [0, 6, 7, 8], [9, 10, 11, 12], [13, 14, 15, 16]] | [[0, 2, 3, 4], [0, 0, 0, 0], [0, 10, 11, 12], [0, 14, 15, 16]] |\n",
    "| Last Column Zero | [[1, 2, 3, 4], [5, 6, 7, 8], [9, 10, 11, 0], [13, 14, 15, 16]] | [[1, 2, 3, 0], [5, 6, 7, 0], [0, 0, 0, 0], [13, 14, 15, 0]] |\n",
    "| Left Top Conner Zero| [[0, 2, 3, 4], [5, 6, 7, 8], [9, 10, 11, 12], [13, 14, 15, 16]] | [[0, 0, 0, 0], [0, 6, 7, 8], [0, 10, 11, 12], [0, 14, 15, 16]] |\n",
    "| Left Bottom Conner Zero| [[1, 2, 3, 4], [5, 6, 7, 8], [9, 10, 11, 12], [0, 14, 15, 16]] | [[0, 2, 3, 4], [0, 6, 7, 8], [0, 10, 11, 12], [0, 0, 0, 0]] |\n",
    "| Right Top Conner Zero| [[1, 2, 3, 0], [5, 6, 7, 8], [9, 10, 11, 12], [13, 14, 15, 16]] | [[0, 0, 0, 0], [5, 6, 7, 0], [9, 10, 11, 0], [13, 14, 15, 0]] |\n",
    "| Right Bottom Conner Zero| [[1, 2, 3, 4], [5, 6, 7, 8], [9, 10, 11, 12], [13, 14, 15, 0]] | [[1, 2, 3, 0], [5, 6, 7, 0], [9, 10, 11, 0], [0, 0, 0, 0]] |\n",
    "| Mid Zero | [[1, 2, 3, 4], [5, 0, 7, 8], [9, 10, 0, 12], [13, 14, 15, 16]] | [[1, 0, 0, 4], [0, 0, 0, 0], [0, 0, 0, 0], [13, 0, 0, 16]] |\n",
    "| All Zero | [[1, 0, 3], [0, 5, 6], [7, 8, 0]]  | [[0, 0, 0], [0, 0, 0], [0, 0, 0]] |"
   ]
  },
  {
   "cell_type": "code",
   "execution_count": 10,
   "id": "274f791f-de3b-4eed-aa29-1b4d3f6681a1",
   "metadata": {},
   "outputs": [],
   "source": [
    "white2 = [\n",
    "    [],\n",
    "    [[0]],\n",
    "    [[1, 0, 3, 4], [5, 6, 7, 8], [9, 10, 11, 12], [13, 14, 15, 16]],\n",
    "    [[1, 2, 3, 4], [5, 6, 7, 8], [9, 10, 11, 12], [13, 14, 0, 16]],\n",
    "    [[1, 2, 3, 4], [0, 6, 7, 8], [9, 10, 11, 12], [13, 14, 15, 16]],\n",
    "    [[1, 2, 3, 4], [5, 6, 7, 8], [9, 10, 11, 0], [13, 14, 15, 16]],\n",
    "    [[0, 2, 3, 4], [5, 6, 7, 8], [9, 10, 11, 12], [13, 14, 15, 16]],\n",
    "    [[1, 2, 3, 4], [5, 6, 7, 8], [9, 10, 11, 12], [0, 14, 15, 16]],\n",
    "    [[1, 2, 3, 0], [5, 6, 7, 8], [9, 10, 11, 12], [13, 14, 15, 16]],\n",
    "    [[1, 2, 3, 4], [5, 6, 7, 8], [9, 10, 11, 12], [13, 14, 15, 0]],\n",
    "    [[1, 2, 3, 4], [5, 0, 7, 8], [9, 10, 0, 12], [13, 14, 15, 16]],\n",
    "    [[1, 0, 3], [0, 5, 6], [7, 8, 0]]]\n",
    "\n",
    "assert list(map(zero_matrix_dict, white2)) == [\n",
    "    [],\n",
    "    [[0]],\n",
    "    [[0, 0, 0, 0], [5, 0, 7, 8], [9, 0, 11, 12], [13, 0, 15, 16]],\n",
    "    [[1, 2, 0, 4], [5, 6, 0, 8], [9, 10, 0, 12], [0, 0, 0, 0]],\n",
    "    [[0, 2, 3, 4], [0, 0, 0, 0], [0, 10, 11, 12], [0, 14, 15, 16]],\n",
    "    [[1, 2, 3, 0], [5, 6, 7, 0], [0, 0, 0, 0], [13, 14, 15, 0]],\n",
    "    [[0, 0, 0, 0], [0, 6, 7, 8], [0, 10, 11, 12], [0, 14, 15, 16]],\n",
    "    [[0, 2, 3, 4], [0, 6, 7, 8], [0, 10, 11, 12], [0, 0, 0, 0]],\n",
    "    [[0, 0, 0, 0], [5, 6, 7, 0], [9, 10, 11, 0], [13, 14, 15, 0]],\n",
    "    [[1, 2, 3, 0], [5, 6, 7, 0], [9, 10, 11, 0], [0, 0, 0, 0]],\n",
    "    [[1, 0, 0, 4], [0, 0, 0, 0], [0, 0, 0, 0], [13, 0, 0, 16]],\n",
    "    [[0, 0, 0], [0, 0, 0], [0, 0, 0]]]"
   ]
  }
 ],
 "metadata": {
  "kernelspec": {
   "display_name": "Python 3",
   "language": "python",
   "name": "python3"
  },
  "language_info": {
   "codemirror_mode": {
    "name": "ipython",
    "version": 3
   },
   "file_extension": ".py",
   "mimetype": "text/x-python",
   "name": "python",
   "nbconvert_exporter": "python",
   "pygments_lexer": "ipython3",
   "version": "3.8.5"
  }
 },
 "nbformat": 4,
 "nbformat_minor": 5
}
