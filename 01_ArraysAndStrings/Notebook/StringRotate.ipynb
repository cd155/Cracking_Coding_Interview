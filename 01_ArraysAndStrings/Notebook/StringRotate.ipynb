{
 "cells": [
  {
   "cell_type": "code",
   "execution_count": 1,
   "id": "funky-meditation",
   "metadata": {},
   "outputs": [
    {
     "data": {
      "text/html": [
       "<style>table {float:left}</style> <style>td {font-size: 15px}</style> <style>tr {font-size: 15px}</style>\n"
      ],
      "text/plain": [
       "<IPython.core.display.HTML object>"
      ]
     },
     "metadata": {},
     "output_type": "display_data"
    }
   ],
   "source": [
    "%%html\n",
    "<style>table {float:left}</style> <style>td {font-size: 15px}</style> <style>tr {font-size: 15px}</style>"
   ]
  },
  {
   "cell_type": "markdown",
   "id": "specific-nebraska",
   "metadata": {},
   "source": [
    "# String Rotation\n",
    "\n",
    "    Assume you have a method isSubstring which checks if one word is a substring of another. \n",
    "    Given two strings, sl and s2, write code to check if s2 is a rotation of s1 using only one call to isSubstring.\n",
    "    For exmaple, \"waterbottle\" is a rotation of\"erbottlewat\"."
   ]
  },
  {
   "cell_type": "markdown",
   "id": "demonstrated-remove",
   "metadata": {},
   "source": [
    "##### Black box\n",
    "|   Input(a)   |Test Case| OutPut | \n",
    "| :---        |:----:|    :----:   | \n",
    "| Rotate | \"waterbottle\", \"erbottlewat\" | True | \n",
    "| No Change | \"canada\", \"canada\" | True |\n",
    "| Not Rotate | \"helloworld\", \"worldlohel\" | False |"
   ]
  },
  {
   "cell_type": "code",
   "execution_count": 2,
   "id": "executed-brazil",
   "metadata": {},
   "outputs": [],
   "source": [
    "black1 = [\"waterbottle\", \"canada\", \"helloworld\"]\n",
    "black2 = [\"erbottlewat\", \"canada\", \"worldlohel\"]"
   ]
  },
  {
   "cell_type": "markdown",
   "id": "intensive-jewel",
   "metadata": {},
   "source": [
    "## Method 1 - Breakpoint"
   ]
  },
  {
   "cell_type": "code",
   "execution_count": 3,
   "id": "demanding-antibody",
   "metadata": {},
   "outputs": [],
   "source": [
    "def is_rotate_string(target, compare):\n",
    "    if len(target) != len(compare):\n",
    "        return False\n",
    "    size = len(compare)\n",
    "    breakpoint = 0\n",
    "    for i in range(size):\n",
    "        if not is_substring(target, compare[0:i]):\n",
    "            # Find non substring, subtrack 1 to point previous substring index\n",
    "            breakpoint = i - 1\n",
    "            break\n",
    "    # size + 1 to cover the last character\n",
    "    for i in range(breakpoint, size + 1):\n",
    "        if not is_substring(target, compare[breakpoint:i]):\n",
    "            return False\n",
    "    return True\n",
    "\n",
    "def is_substring(target, compare):\n",
    "    if len(compare) == 0:\n",
    "            return True\n",
    "    for i in range(len(target)):\n",
    "        base = target[i:i+len(compare)]\n",
    "        if base == compare:\n",
    "             return True\n",
    "    return False"
   ]
  },
  {
   "cell_type": "code",
   "execution_count": 4,
   "id": "sharp-modeling",
   "metadata": {},
   "outputs": [],
   "source": [
    "assert list(map(is_rotate_string, black1, black2)) == [True, True, False]"
   ]
  },
  {
   "cell_type": "markdown",
   "id": "pediatric-concrete",
   "metadata": {},
   "source": [
    "##### Path Coverage\n",
    "| Senario      | Test Case | OutPut |\n",
    "| :---        |    :----:   | :----: |\n",
    "| All Empty | \"\", \"\" | True |\n",
    "| Size Not Equal | \"\", \"h\" | False |\n",
    "| Same String | \"hello\", \"hello\" | True |\n",
    "| Single Character | \"a\", \"a\" | True |\n",
    "| Normal Case Yes | \"mcmaster\", \"ermcmast\" | True |\n",
    "| Normal Case No | \"mcmaster\", \"masteral\" | False |"
   ]
  },
  {
   "cell_type": "code",
   "execution_count": 5,
   "id": "digital-james",
   "metadata": {},
   "outputs": [],
   "source": [
    "white1 = [\"\", \"\", \"hello\", \"a\", \"mcmaster\", \"mcmaster\"]\n",
    "white2 = [\"\", \"h\", \"hello\", \"a\", \"ermcmast\", \"masteral\"]"
   ]
  },
  {
   "cell_type": "code",
   "execution_count": 6,
   "id": "liquid-technique",
   "metadata": {},
   "outputs": [],
   "source": [
    "assert list(map(is_rotate_string, white1, white2)) == [True, False, True, True, True, False]"
   ]
  }
 ],
 "metadata": {
  "kernelspec": {
   "display_name": "Python 3",
   "language": "python",
   "name": "python3"
  },
  "language_info": {
   "codemirror_mode": {
    "name": "ipython",
    "version": 3
   },
   "file_extension": ".py",
   "mimetype": "text/x-python",
   "name": "python",
   "nbconvert_exporter": "python",
   "pygments_lexer": "ipython3",
   "version": "3.8.5"
  }
 },
 "nbformat": 4,
 "nbformat_minor": 5
}
