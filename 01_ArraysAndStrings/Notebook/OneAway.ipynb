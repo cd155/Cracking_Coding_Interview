{
 "cells": [
  {
   "cell_type": "code",
   "execution_count": null,
   "id": "single-inside",
   "metadata": {},
   "outputs": [],
   "source": [
    "%%html\n",
    "<style>table {float:left}</style> <style>td {font-size: 15px}</style> <style>tr {font-size: 15px}</style>"
   ]
  },
  {
   "cell_type": "markdown",
   "id": "smoking-restriction",
   "metadata": {},
   "source": [
    "# One Edit Away \n",
    "\n",
    "    There are three types of edits that can be performed on strings: \n",
    "    \n",
    "    insert a character, remove a character, or replace a character. \n",
    "    \n",
    "    Given two strings, write a function to check if they are one edit (or zero edits) away."
   ]
  },
  {
   "cell_type": "markdown",
   "id": "sunrise-chocolate",
   "metadata": {},
   "source": [
    "##### Black box\n",
    "|   Input(a)   |Test Case| OutPut | \n",
    "| :---        |:----:|    :----:   | \n",
    "| One Edit (insert)  |\"tech\",\"teach\" | True |\n",
    "| One Edit (remove)  |\"tech\",\"ech\" | True | \n",
    "| One Edit (replace)  |\"tech\",\"tach\" | True | \n",
    "| Zero Edit | \"tech\",\"tech\" | True | \n",
    "| More than one Edit   |\"tech\",\"team\"| False | "
   ]
  },
  {
   "cell_type": "code",
   "execution_count": null,
   "id": "ultimate-process",
   "metadata": {},
   "outputs": [],
   "source": []
  }
 ],
 "metadata": {
  "kernelspec": {
   "display_name": "Python 3",
   "language": "python",
   "name": "python3"
  },
  "language_info": {
   "codemirror_mode": {
    "name": "ipython",
    "version": 3
   },
   "file_extension": ".py",
   "mimetype": "text/x-python",
   "name": "python",
   "nbconvert_exporter": "python",
   "pygments_lexer": "ipython3",
   "version": "3.8.5"
  }
 },
 "nbformat": 4,
 "nbformat_minor": 5
}
