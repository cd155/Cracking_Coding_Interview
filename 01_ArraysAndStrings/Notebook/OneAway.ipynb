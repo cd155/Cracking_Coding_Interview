{
 "cells": [
  {
   "cell_type": "code",
   "execution_count": 1,
   "id": "parliamentary-emerald",
   "metadata": {},
   "outputs": [
    {
     "data": {
      "text/html": [
       "<style>table {float:left}</style> <style>td {font-size: 15px}</style> <style>tr {font-size: 15px}</style>\n"
      ],
      "text/plain": [
       "<IPython.core.display.HTML object>"
      ]
     },
     "metadata": {},
     "output_type": "display_data"
    }
   ],
   "source": [
    "%%html\n",
    "<style>table {float:left}</style> <style>td {font-size: 15px}</style> <style>tr {font-size: 15px}</style>"
   ]
  },
  {
   "cell_type": "markdown",
   "id": "directed-sender",
   "metadata": {},
   "source": [
    "# One Edit Away \n",
    "\n",
    "    There are three types of edits that can be performed on strings: \n",
    "    \n",
    "    insert a character, remove a character, or replace a character. \n",
    "    \n",
    "    Given two strings, write a function to check if they are one edit (or zero edits) away."
   ]
  },
  {
   "cell_type": "markdown",
   "id": "announced-cinema",
   "metadata": {},
   "source": [
    "##### Black box\n",
    "|   Input(a)   |Test Case| OutPut | \n",
    "| :---        |:----:|    :----:   | \n",
    "| One Edit (insert)  |\"tech\",\"teach\" | True |\n",
    "| One Edit (remove)  |\"tech\",\"ech\" | True | \n",
    "| One Edit (replace)  |\"tech\",\"tach\" | True | \n",
    "| Zero Edit | \"tech\",\"tech\" | True | \n",
    "| More than one Edit   |\"tech\",\"team\"| False | "
   ]
  },
  {
   "cell_type": "code",
   "execution_count": 2,
   "id": "tough-muscle",
   "metadata": {},
   "outputs": [],
   "source": [
    "black1 = [\"\"]"
   ]
  },
  {
   "cell_type": "markdown",
   "id": "turkish-passport",
   "metadata": {},
   "source": [
    "## Method 1"
   ]
  },
  {
   "cell_type": "code",
   "execution_count": 3,
   "id": "rolled-decline",
   "metadata": {},
   "outputs": [],
   "source": [
    "def method1(input1):\n",
    "    return True"
   ]
  },
  {
   "cell_type": "code",
   "execution_count": 4,
   "id": "varied-pound",
   "metadata": {},
   "outputs": [],
   "source": [
    "assert list(map(method1, black1)) == [True]"
   ]
  },
  {
   "cell_type": "markdown",
   "id": "judicial-teacher",
   "metadata": {},
   "source": [
    "##### Path Coverage\n",
    "| Senario      | Test Case | OutPut |\n",
    "| :---        |    :----:   | :----: |\n",
    "| empty |  | False\n",
    "| zero loop | | True\n",
    "| one loop| | False|\n",
    "| average loop | | False\n",
    "| max loop| | True|"
   ]
  },
  {
   "cell_type": "code",
   "execution_count": 5,
   "id": "recent-terror",
   "metadata": {},
   "outputs": [],
   "source": [
    "white1 = [\"\"]"
   ]
  },
  {
   "cell_type": "code",
   "execution_count": 6,
   "id": "nominated-newport",
   "metadata": {},
   "outputs": [],
   "source": [
    "assert list(map(method1, white1)) == [True]"
   ]
  },
  {
   "cell_type": "markdown",
   "id": "arabic-design",
   "metadata": {},
   "source": [
    "# Method 2"
   ]
  },
  {
   "cell_type": "code",
   "execution_count": 7,
   "id": "turkish-reduction",
   "metadata": {},
   "outputs": [],
   "source": [
    "def method2(input1, input2):\n",
    "    return False"
   ]
  },
  {
   "cell_type": "code",
   "execution_count": 8,
   "id": "military-mauritius",
   "metadata": {},
   "outputs": [],
   "source": [
    "assert list(map(method2, black1, black1)) == [False]"
   ]
  },
  {
   "cell_type": "code",
   "execution_count": 9,
   "id": "missing-clear",
   "metadata": {},
   "outputs": [],
   "source": [
    "assert list(map(method2, white1, white1)) == [False]"
   ]
  },
  {
   "cell_type": "markdown",
   "id": "annoying-drunk",
   "metadata": {},
   "source": [
    "##### Path Coverage\n",
    "| Senario      | Test Case | OutPut |\n",
    "| :---        |    :----:   | :----: |\n",
    "| 1  | | False |\n",
    "| 2  | | True |"
   ]
  },
  {
   "cell_type": "code",
   "execution_count": 10,
   "id": "physical-point",
   "metadata": {},
   "outputs": [],
   "source": [
    "new_white1 = [\"\"]\n",
    "new_white2 = [\"\"]\n",
    "assert list(map(method2, new_white1, new_white2)) == [False]"
   ]
  },
  {
   "cell_type": "code",
   "execution_count": null,
   "id": "italic-muslim",
   "metadata": {},
   "outputs": [],
   "source": []
  }
 ],
 "metadata": {
  "kernelspec": {
   "display_name": "Python 3",
   "language": "python",
   "name": "python3"
  },
  "language_info": {
   "codemirror_mode": {
    "name": "ipython",
    "version": 3
   },
   "file_extension": ".py",
   "mimetype": "text/x-python",
   "name": "python",
   "nbconvert_exporter": "python",
   "pygments_lexer": "ipython3",
   "version": "3.8.5"
  }
 },
 "nbformat": 4,
 "nbformat_minor": 5
}
