{
 "cells": [
  {
   "cell_type": "code",
   "execution_count": 1,
   "id": "2de1fe88-8884-4d37-b5c0-48ab2d16e0e9",
   "metadata": {},
   "outputs": [
    {
     "data": {
      "text/html": [
       "<style>table {float:left}</style> <style>td {font-size: 15px}</style> <style>tr {font-size: 15px}</style>\n"
      ],
      "text/plain": [
       "<IPython.core.display.HTML object>"
      ]
     },
     "metadata": {},
     "output_type": "display_data"
    }
   ],
   "source": [
    "%%html\n",
    "<style>table {float:left}</style> <style>td {font-size: 15px}</style> <style>tr {font-size: 15px}</style>"
   ]
  },
  {
   "cell_type": "markdown",
   "id": "broad-bunch",
   "metadata": {},
   "source": [
    "# Is Unique: \n",
    "    Implement an algorithm to determine if a string has all unique characters. \n",
    "    \n",
    "    What if you cannot use additional data structures?"
   ]
  },
  {
   "cell_type": "markdown",
   "id": "1ea04262-36cd-460b-9660-0d5bbbe03b6c",
   "metadata": {},
   "source": [
    "## Dictionary"
   ]
  },
  {
   "cell_type": "code",
   "execution_count": 2,
   "id": "global-anatomy",
   "metadata": {},
   "outputs": [],
   "source": [
    "def is_unique_dic(inputs):\n",
    "    d = {}\n",
    "    for cha in inputs:\n",
    "        if cha in d:\n",
    "            return False\n",
    "        else:\n",
    "            d[cha] = 0\n",
    "    return True"
   ]
  },
  {
   "cell_type": "markdown",
   "id": "danish-bubble",
   "metadata": {},
   "source": [
    "##### Black box\n",
    "|   Input(a)   |Test Case| OutPut | \n",
    "| :---        |:----:|    :----:   | \n",
    "| a is unique      |\"algorithm?\"| True       | \n",
    "| a is not unique   |\"12zz!?\"| False        | "
   ]
  },
  {
   "cell_type": "code",
   "execution_count": 3,
   "id": "christian-transparency",
   "metadata": {},
   "outputs": [],
   "source": [
    "black = [\"algorithm?\", \"12zz!?\"]"
   ]
  },
  {
   "cell_type": "code",
   "execution_count": 4,
   "id": "returning-migration",
   "metadata": {},
   "outputs": [],
   "source": [
    "assert list(map(is_unique_dic, black)) == [True, False]"
   ]
  },
  {
   "cell_type": "markdown",
   "id": "thorough-antique",
   "metadata": {},
   "source": [
    "##### Path Coverage\n",
    "| Senario      | Test Case | OutPut |\n",
    "| :---        |    :----:   | :----: |\n",
    "| Zero Loop      | \"\"       | True\n",
    "| One Loop| \"a\"| True|\n",
    "| At Last   | \"oops\"        | False |\n",
    "| At Begin   | \"thisgreat\"        | False |\n",
    "| At Middle | \"12zz!?\" | False |\n",
    "| More Not Unique| \"123aaaaaaa!?\"   | False |\n",
    "| Average Is Unique| \"ertushg819#@\"| True|"
   ]
  },
  {
   "cell_type": "code",
   "execution_count": 5,
   "id": "hybrid-semester",
   "metadata": {},
   "outputs": [],
   "source": [
    "white = [\"\", \"a\", \"oops\", \"thisgreat\", \"12!-!?\", \"123aaaaaaa!?\", \"ertushg819#@\"]"
   ]
  },
  {
   "cell_type": "code",
   "execution_count": 6,
   "id": "eight-enhancement",
   "metadata": {},
   "outputs": [],
   "source": [
    "assert list(map(is_unique_dic, white)) == [True, True, False, False, False, False, True]"
   ]
  },
  {
   "cell_type": "markdown",
   "id": "3436a8c3-dcae-433c-a352-bf3134271894",
   "metadata": {},
   "source": [
    "## Array"
   ]
  },
  {
   "cell_type": "markdown",
   "id": "703de82d-6649-4ab4-ab0f-1ed3b905bebf",
   "metadata": {},
   "source": [
    "##### Assumption\n",
    "Assume all inputs are a subset of the ASCII 128 table."
   ]
  },
  {
   "cell_type": "code",
   "execution_count": 66,
   "id": "7b5ea445-b83e-4c64-a774-2ad971afd984",
   "metadata": {},
   "outputs": [],
   "source": [
    "def is_unique_arr(inputs):\n",
    "    arr = [False]*128\n",
    "    for cha in inputs:\n",
    "        if arr[ord(cha)]:\n",
    "            return False\n",
    "        else:\n",
    "            arr[ord(cha)] = True\n",
    "    return True"
   ]
  },
  {
   "cell_type": "code",
   "execution_count": 67,
   "id": "13d02f96-d795-4d2e-a92d-f132654f1a00",
   "metadata": {},
   "outputs": [],
   "source": [
    "assert list(map(is_unique_arr, black)) == [True, False]"
   ]
  },
  {
   "cell_type": "code",
   "execution_count": 68,
   "id": "4238242a-aeef-41d0-b935-8b99d65bf054",
   "metadata": {},
   "outputs": [],
   "source": [
    "assert list(map(is_unique_arr, white)) == [True, True, False, False, False, False, True]"
   ]
  },
  {
   "cell_type": "markdown",
   "id": "488fa6f5-b9fe-4dad-8709-c75ef11a03d7",
   "metadata": {},
   "source": [
    "##### Path Coverage\n",
    "\"~\" is the last printable character in 128 ASCII table\n",
    "\n",
    "| Senario      | Test Case | OutPut |\n",
    "| :---        |    :----:   | :----: |\n",
    "| Max   | \"\\~triangle\\~\"       | False |"
   ]
  },
  {
   "cell_type": "code",
   "execution_count": null,
   "id": "739c8538-6720-47bc-9fe0-852e957f35ca",
   "metadata": {},
   "outputs": [],
   "source": [
    "assert is_unique_arr(\"\\~triangle\\~\") == False"
   ]
  },
  {
   "cell_type": "markdown",
   "id": "8cf8ccaf-ed43-4104-ae8a-7aee88fb1733",
   "metadata": {},
   "source": [
    "## Bit"
   ]
  },
  {
   "cell_type": "code",
   "execution_count": 69,
   "id": "ae4f946b-10d3-4f31-9619-8067202c4f4c",
   "metadata": {},
   "outputs": [],
   "source": [
    "def is_unique_bit(inputs):\n",
    "    checker = 0\n",
    "    for cha in inputs:\n",
    "        cha_in_num = ord(cha)-ord(\" \")\n",
    "        if checker & 1 << cha_in_num:\n",
    "            return False\n",
    "        else: \n",
    "            checker |= 1 << cha_in_num\n",
    "    return True  "
   ]
  },
  {
   "cell_type": "code",
   "execution_count": 70,
   "id": "41412a17-03e2-4bc4-a15f-07cd5b0e71b3",
   "metadata": {},
   "outputs": [],
   "source": [
    "assert list(map(is_unique_bit, black)) == [True, False]"
   ]
  },
  {
   "cell_type": "code",
   "execution_count": 71,
   "id": "abb8bea3-6c63-4588-a688-e4289e883572",
   "metadata": {},
   "outputs": [],
   "source": [
    "assert list(map(is_unique_bit, white)) == [True, True, False, False, False, False, True]"
   ]
  },
  {
   "cell_type": "markdown",
   "id": "5c1003b8-6f68-42a9-bde6-214a96cf2262",
   "metadata": {},
   "source": [
    "##### Path Coverage\n",
    "\" \" is the first printable character in 128 ASCII table\n",
    "\n",
    "| Senario      | Test Case | OutPut |\n",
    "| :---        |    :----:   | :----: |\n",
    "| Max Unique   | \" this!2*\"       | True |\n",
    "| Max Not Unique  | \" &nbsp; \"      | False |"
   ]
  },
  {
   "cell_type": "code",
   "execution_count": 72,
   "id": "a9a08600-88a7-471d-8ce9-5603f6b4bfeb",
   "metadata": {},
   "outputs": [],
   "source": [
    "new_white = [\" this!2\", \"  \"]\n",
    "assert list(map(is_unique_bit, new_white)) == [True, False]"
   ]
  }
 ],
 "metadata": {
  "kernelspec": {
   "display_name": "Python 3",
   "language": "python",
   "name": "python3"
  },
  "language_info": {
   "codemirror_mode": {
    "name": "ipython",
    "version": 3
   },
   "file_extension": ".py",
   "mimetype": "text/x-python",
   "name": "python",
   "nbconvert_exporter": "python",
   "pygments_lexer": "ipython3",
   "version": "3.8.5"
  }
 },
 "nbformat": 4,
 "nbformat_minor": 5
}
