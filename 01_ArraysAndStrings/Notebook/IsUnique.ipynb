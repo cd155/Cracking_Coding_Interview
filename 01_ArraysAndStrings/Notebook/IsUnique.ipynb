{
 "cells": [
  {
   "cell_type": "code",
   "execution_count": 1,
   "id": "buried-ballet",
   "metadata": {},
   "outputs": [
    {
     "data": {
      "text/html": [
       "<style>table {float:left}</style> <style>td {font-size: 15px}</style> <style>tr {font-size: 15px}</style>\n"
      ],
      "text/plain": [
       "<IPython.core.display.HTML object>"
      ]
     },
     "metadata": {},
     "output_type": "display_data"
    }
   ],
   "source": [
    "%%html\n",
    "<style>table {float:left}</style> <style>td {font-size: 15px}</style> <style>tr {font-size: 15px}</style>"
   ]
  },
  {
   "cell_type": "markdown",
   "id": "processed-stick",
   "metadata": {},
   "source": [
    "# Is Unique: \n",
    "    Implement an algorithm to determine if a string has all unique characters. \n",
    "    \n",
    "    What if you cannot use additional data structures?"
   ]
  },
  {
   "cell_type": "markdown",
   "id": "challenging-pakistan",
   "metadata": {},
   "source": [
    "##### Black box\n",
    "|   Input(a)   |Test Case| OutPut | \n",
    "| :---        |:----:|    :----:   | \n",
    "| a is unique      |\"algorithm?\"| True       | \n",
    "| a is not unique   |\"12zz!?\"| False        | "
   ]
  },
  {
   "cell_type": "code",
   "execution_count": 3,
   "id": "reverse-groove",
   "metadata": {},
   "outputs": [],
   "source": [
    "black = [\"algorithm?\", \"12zz!?\"]"
   ]
  },
  {
   "cell_type": "markdown",
   "id": "fiscal-packaging",
   "metadata": {},
   "source": [
    "## Dictionary"
   ]
  },
  {
   "cell_type": "code",
   "execution_count": 2,
   "id": "original-adventure",
   "metadata": {},
   "outputs": [],
   "source": [
    "def is_unique_dict(inputs):\n",
    "    d = {}\n",
    "    for cha in inputs:\n",
    "        if cha in d:\n",
    "            return False\n",
    "        else:\n",
    "            d[cha] = 0\n",
    "    return True"
   ]
  },
  {
   "cell_type": "code",
   "execution_count": 4,
   "id": "streaming-camel",
   "metadata": {},
   "outputs": [],
   "source": [
    "assert list(map(is_unique_dict, black)) == [True, False]"
   ]
  },
  {
   "cell_type": "markdown",
   "id": "opponent-storm",
   "metadata": {},
   "source": [
    "##### Path Coverage\n",
    "| Senario      | Test Case | OutPut |\n",
    "| :---        |    :----:   | :----: |\n",
    "| Zero Loop      | \"\"       | True\n",
    "| One Loop| \"a\"| True|\n",
    "| At Last   | \"oops\"        | False |\n",
    "| At Begin   | \"thisgreat\"        | False |\n",
    "| At Middle | \"12zz!?\" | False |\n",
    "| More Not Unique| \"123aaaaaaa!?\"   | False |\n",
    "| Average Is Unique| \"ertushg819#@\"| True|"
   ]
  },
  {
   "cell_type": "code",
   "execution_count": 5,
   "id": "decreased-invitation",
   "metadata": {},
   "outputs": [],
   "source": [
    "white = [\"\", \"a\", \"oops\", \"thisgreat\", \"12!-!?\", \"123aaaaaaa!?\", \"ertushg819#@\"]"
   ]
  },
  {
   "cell_type": "code",
   "execution_count": 6,
   "id": "fabulous-kenya",
   "metadata": {},
   "outputs": [],
   "source": [
    "assert list(map(is_unique_dict, white)) == [True, True, False, False, False, False, True]"
   ]
  },
  {
   "cell_type": "markdown",
   "id": "artificial-monday",
   "metadata": {},
   "source": [
    "## Array"
   ]
  },
  {
   "cell_type": "markdown",
   "id": "tribal-czech",
   "metadata": {},
   "source": [
    "##### Assumption\n",
    "Assume all inputs are a subset of the ASCII 128 table."
   ]
  },
  {
   "cell_type": "code",
   "execution_count": 7,
   "id": "honey-insurance",
   "metadata": {},
   "outputs": [],
   "source": [
    "def is_unique_arr(inputs):\n",
    "    arr = [False]*128\n",
    "    for cha in inputs:\n",
    "        if arr[ord(cha)]:\n",
    "            return False\n",
    "        else:\n",
    "            arr[ord(cha)] = True\n",
    "    return True"
   ]
  },
  {
   "cell_type": "code",
   "execution_count": 8,
   "id": "solar-queens",
   "metadata": {},
   "outputs": [],
   "source": [
    "assert list(map(is_unique_arr, black)) == [True, False]"
   ]
  },
  {
   "cell_type": "code",
   "execution_count": 9,
   "id": "specified-europe",
   "metadata": {},
   "outputs": [],
   "source": [
    "assert list(map(is_unique_arr, white)) == [True, True, False, False, False, False, True]"
   ]
  },
  {
   "cell_type": "markdown",
   "id": "nervous-interpretation",
   "metadata": {},
   "source": [
    "##### Path Coverage\n",
    "\"~\" is the last printable character in 128 ASCII table\n",
    "\n",
    "| Senario      | Test Case | OutPut |\n",
    "| :---        |    :----:   | :----: |\n",
    "| Max Not Unique  | \"\\~triangle\\~\"       | False |\n",
    "| Max Unique  | \"mil~k\"       | True |"
   ]
  },
  {
   "cell_type": "code",
   "execution_count": 10,
   "id": "contained-stylus",
   "metadata": {},
   "outputs": [],
   "source": [
    "new_white = [\"\\~triangle\\~\", \"mil~k\"]\n",
    "assert list(map(is_unique_arr, new_white)) == [False, True]"
   ]
  },
  {
   "cell_type": "markdown",
   "id": "absolute-uganda",
   "metadata": {},
   "source": [
    "## Bit"
   ]
  },
  {
   "cell_type": "code",
   "execution_count": 11,
   "id": "another-timber",
   "metadata": {},
   "outputs": [],
   "source": [
    "def is_unique_bit(inputs):\n",
    "    checker = 0\n",
    "    for cha in inputs:\n",
    "        cha_in_num = ord(cha)-ord(\" \")\n",
    "        if checker & 1 << cha_in_num:\n",
    "            return False\n",
    "        else:\n",
    "            checker |= 1 << cha_in_num\n",
    "    return True  "
   ]
  },
  {
   "cell_type": "code",
   "execution_count": 12,
   "id": "insured-voltage",
   "metadata": {},
   "outputs": [],
   "source": [
    "assert list(map(is_unique_bit, black)) == [True, False]"
   ]
  },
  {
   "cell_type": "code",
   "execution_count": 13,
   "id": "extreme-india",
   "metadata": {},
   "outputs": [],
   "source": [
    "assert list(map(is_unique_bit, white)) == [True, True, False, False, False, False, True]"
   ]
  },
  {
   "cell_type": "markdown",
   "id": "remarkable-champagne",
   "metadata": {},
   "source": [
    "##### Path Coverage\n",
    "\" \" is the first printable character in 128 ASCII table\n",
    "\n",
    "| Senario      | Test Case | OutPut |\n",
    "| :---        |    :----:   | :----: |\n",
    "| Max Unique   | \" this!2*\"       | True |\n",
    "| Max Not Unique  | \" &nbsp; \"      | False |"
   ]
  },
  {
   "cell_type": "code",
   "execution_count": 14,
   "id": "hazardous-winner",
   "metadata": {},
   "outputs": [],
   "source": [
    "new_white = [\" this!2\", \"  \"]\n",
    "assert list(map(is_unique_bit, new_white)) == [True, False]"
   ]
  }
 ],
 "metadata": {
  "kernelspec": {
   "display_name": "Python 3",
   "language": "python",
   "name": "python3"
  },
  "language_info": {
   "codemirror_mode": {
    "name": "ipython",
    "version": 3
   },
   "file_extension": ".py",
   "mimetype": "text/x-python",
   "name": "python",
   "nbconvert_exporter": "python",
   "pygments_lexer": "ipython3",
   "version": "3.8.5"
  }
 },
 "nbformat": 4,
 "nbformat_minor": 5
}
