{
 "cells": [
  {
   "cell_type": "code",
   "execution_count": 1,
   "id": "fabulous-enforcement",
   "metadata": {},
   "outputs": [
    {
     "data": {
      "text/html": [
       "<style>table {float:left}</style> <style>td {font-size: 15px}</style> <style>tr {font-size: 15px}</style>\n"
      ],
      "text/plain": [
       "<IPython.core.display.HTML object>"
      ]
     },
     "metadata": {},
     "output_type": "display_data"
    }
   ],
   "source": [
    "%%html\n",
    "<style>table {float:left}</style> <style>td {font-size: 15px}</style> <style>tr {font-size: 15px}</style>"
   ]
  },
  {
   "cell_type": "markdown",
   "id": "advisory-border",
   "metadata": {},
   "source": [
    "# Is Unique: \n",
    "    Implement an algorithm to determine if a string has all unique characters. \n",
    "    \n",
    "    What if you cannot use additional data structures?"
   ]
  },
  {
   "cell_type": "markdown",
   "id": "polyphonic-butler",
   "metadata": {},
   "source": [
    "## Dictionary"
   ]
  },
  {
   "cell_type": "code",
   "execution_count": 2,
   "id": "composed-thousand",
   "metadata": {},
   "outputs": [],
   "source": [
    "def is_unique_dict(inputs):\n",
    "    d = {}\n",
    "    for cha in inputs:\n",
    "        if cha in d:\n",
    "            return False\n",
    "        else:\n",
    "            d[cha] = 0\n",
    "    return True"
   ]
  },
  {
   "cell_type": "markdown",
   "id": "anonymous-rover",
   "metadata": {},
   "source": [
    "##### Black box\n",
    "|   Input(a)   |Test Case| OutPut | \n",
    "| :---        |:----:|    :----:   | \n",
    "| a is unique      |\"algorithm?\"| True       | \n",
    "| a is not unique   |\"12zz!?\"| False        | "
   ]
  },
  {
   "cell_type": "code",
   "execution_count": 3,
   "id": "proud-gnome",
   "metadata": {},
   "outputs": [],
   "source": [
    "black = [\"algorithm?\", \"12zz!?\"]"
   ]
  },
  {
   "cell_type": "code",
   "execution_count": 4,
   "id": "elegant-uniform",
   "metadata": {},
   "outputs": [],
   "source": [
    "assert list(map(is_unique_dict, black)) == [True, False]"
   ]
  },
  {
   "cell_type": "markdown",
   "id": "explicit-listing",
   "metadata": {},
   "source": [
    "##### Path Coverage\n",
    "| Senario      | Test Case | OutPut |\n",
    "| :---        |    :----:   | :----: |\n",
    "| Zero Loop      | \"\"       | True\n",
    "| One Loop| \"a\"| True|\n",
    "| At Last   | \"oops\"        | False |\n",
    "| At Begin   | \"thisgreat\"        | False |\n",
    "| At Middle | \"12zz!?\" | False |\n",
    "| More Not Unique| \"123aaaaaaa!?\"   | False |\n",
    "| Average Is Unique| \"ertushg819#@\"| True|"
   ]
  },
  {
   "cell_type": "code",
   "execution_count": 5,
   "id": "valid-hostel",
   "metadata": {},
   "outputs": [],
   "source": [
    "white = [\"\", \"a\", \"oops\", \"thisgreat\", \"12!-!?\", \"123aaaaaaa!?\", \"ertushg819#@\"]"
   ]
  },
  {
   "cell_type": "code",
   "execution_count": 6,
   "id": "hispanic-workplace",
   "metadata": {},
   "outputs": [],
   "source": [
    "assert list(map(is_unique_dict, white)) == [True, True, False, False, False, False, True]"
   ]
  },
  {
   "cell_type": "markdown",
   "id": "active-quarterly",
   "metadata": {},
   "source": [
    "## Array"
   ]
  },
  {
   "cell_type": "markdown",
   "id": "burning-business",
   "metadata": {},
   "source": [
    "##### Assumption\n",
    "Assume all inputs are a subset of the ASCII 128 table."
   ]
  },
  {
   "cell_type": "code",
   "execution_count": 7,
   "id": "another-exemption",
   "metadata": {},
   "outputs": [],
   "source": [
    "def is_unique_arr(inputs):\n",
    "    arr = [False]*128\n",
    "    for cha in inputs:\n",
    "        if arr[ord(cha)]:\n",
    "            return False\n",
    "        else:\n",
    "            arr[ord(cha)] = True\n",
    "    return True"
   ]
  },
  {
   "cell_type": "code",
   "execution_count": 8,
   "id": "parental-lemon",
   "metadata": {},
   "outputs": [],
   "source": [
    "assert list(map(is_unique_arr, black)) == [True, False]"
   ]
  },
  {
   "cell_type": "code",
   "execution_count": 9,
   "id": "eleven-casino",
   "metadata": {},
   "outputs": [],
   "source": [
    "assert list(map(is_unique_arr, white)) == [True, True, False, False, False, False, True]"
   ]
  },
  {
   "cell_type": "markdown",
   "id": "revolutionary-sample",
   "metadata": {},
   "source": [
    "##### Path Coverage\n",
    "\"~\" is the last printable character in 128 ASCII table\n",
    "\n",
    "| Senario      | Test Case | OutPut |\n",
    "| :---        |    :----:   | :----: |\n",
    "| Max Not Unique  | \"\\~triangle\\~\"       | False |\n",
    "| Max Not Unique  | \"mil~k\"       | True |"
   ]
  },
  {
   "cell_type": "code",
   "execution_count": 10,
   "id": "confidential-artist",
   "metadata": {},
   "outputs": [],
   "source": [
    "new_white = [\"\\~triangle\\~\", \"mil~k\"]\n",
    "assert list(map(is_unique_arr, new_white)) == [False, True]"
   ]
  },
  {
   "cell_type": "markdown",
   "id": "growing-bangladesh",
   "metadata": {},
   "source": [
    "## Bit"
   ]
  },
  {
   "cell_type": "code",
   "execution_count": 11,
   "id": "elect-israeli",
   "metadata": {},
   "outputs": [],
   "source": [
    "def is_unique_bit(inputs):\n",
    "    checker = 0\n",
    "    for cha in inputs:\n",
    "        cha_in_num = ord(cha)-ord(\" \")\n",
    "        if checker & 1 << cha_in_num:\n",
    "            return False\n",
    "        else:\n",
    "            checker |= 1 << cha_in_num\n",
    "    return True  "
   ]
  },
  {
   "cell_type": "code",
   "execution_count": 12,
   "id": "heated-april",
   "metadata": {},
   "outputs": [],
   "source": [
    "assert list(map(is_unique_bit, black)) == [True, False]"
   ]
  },
  {
   "cell_type": "code",
   "execution_count": 13,
   "id": "outer-spread",
   "metadata": {},
   "outputs": [],
   "source": [
    "assert list(map(is_unique_bit, white)) == [True, True, False, False, False, False, True]"
   ]
  },
  {
   "cell_type": "markdown",
   "id": "verbal-shirt",
   "metadata": {},
   "source": [
    "##### Path Coverage\n",
    "\" \" is the first printable character in 128 ASCII table\n",
    "\n",
    "| Senario      | Test Case | OutPut |\n",
    "| :---        |    :----:   | :----: |\n",
    "| Max Unique   | \" this!2*\"       | True |\n",
    "| Max Not Unique  | \" &nbsp; \"      | False |"
   ]
  },
  {
   "cell_type": "code",
   "execution_count": 14,
   "id": "modified-cowboy",
   "metadata": {},
   "outputs": [],
   "source": [
    "new_white = [\" this!2\", \"  \"]\n",
    "assert list(map(is_unique_bit, new_white)) == [True, False]"
   ]
  }
 ],
 "metadata": {
  "kernelspec": {
   "display_name": "Python 3",
   "language": "python",
   "name": "python3"
  },
  "language_info": {
   "codemirror_mode": {
    "name": "ipython",
    "version": 3
   },
   "file_extension": ".py",
   "mimetype": "text/x-python",
   "name": "python",
   "nbconvert_exporter": "python",
   "pygments_lexer": "ipython3",
   "version": "3.8.5"
  }
 },
 "nbformat": 4,
 "nbformat_minor": 5
}
