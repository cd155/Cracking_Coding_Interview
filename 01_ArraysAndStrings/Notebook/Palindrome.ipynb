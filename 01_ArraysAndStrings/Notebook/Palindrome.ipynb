{
 "cells": [
  {
   "cell_type": "code",
   "execution_count": 1,
   "id": "cleared-howard",
   "metadata": {},
   "outputs": [
    {
     "data": {
      "text/html": [
       "<style>table {float:left}</style> <style>td {font-size: 15px}</style> <style>tr {font-size: 15px}</style>\n"
      ],
      "text/plain": [
       "<IPython.core.display.HTML object>"
      ]
     },
     "metadata": {},
     "output_type": "display_data"
    }
   ],
   "source": [
    "%%html\n",
    "<style>table {float:left}</style> <style>td {font-size: 15px}</style> <style>tr {font-size: 15px}</style>"
   ]
  },
  {
   "cell_type": "markdown",
   "id": "prescribed-appliance",
   "metadata": {},
   "source": [
    "# Check Palindrome\n",
    "\n",
    "    Given a string, write a function to check if it is a permutation of a palindrome.\n",
    "    \n",
    "    A palindrome is a word or phrase that is the same forwards and backwards.\n",
    "    A permutation is a rearrangement of letters. The palindrome does not need to be limited tojust dictionary words."
   ]
  },
  {
   "cell_type": "markdown",
   "id": "applicable-blackjack",
   "metadata": {},
   "source": [
    "##### Black box\n",
    "|   Input(a)   |Test Case| OutPut | \n",
    "| :---        |:----:|    :----:   | \n",
    "| not a permutation of a palindrome     |\"universal\"| False       | \n",
    "| a permutation of a palindrome   |\"tactcoa\"| True        | \n",
    "| a palindrome   |\"adcocda\"| True        | "
   ]
  },
  {
   "cell_type": "code",
   "execution_count": 2,
   "id": "sophisticated-arcade",
   "metadata": {},
   "outputs": [],
   "source": [
    "black1 = [\"universal\", \"tactcoa\", \"adcocda\"]"
   ]
  },
  {
   "cell_type": "code",
   "execution_count": 3,
   "id": "outdoor-toolbox",
   "metadata": {},
   "outputs": [],
   "source": [
    "def is_permute_pd_arr(input):\n",
    "    arr = [0]*128\n",
    "    for i in range(len(input)):\n",
    "        ord_num = ord(input[i])\n",
    "        if arr[ord_num] == 0:\n",
    "            arr[ord_num] += 1\n",
    "        elif arr[ord_num] == 1:\n",
    "            arr[ord_num] -= 1\n",
    "        else:\n",
    "            raise ValueError \n",
    "    if sum(arr) == 0 or sum(arr) == 1:\n",
    "        return True\n",
    "    else:\n",
    "        return False"
   ]
  },
  {
   "cell_type": "code",
   "execution_count": 4,
   "id": "muslim-broadway",
   "metadata": {},
   "outputs": [],
   "source": [
    "assert list(map(is_permute_pd_arr, black1)) == [False, True, True]"
   ]
  },
  {
   "cell_type": "markdown",
   "id": "presidential-packing",
   "metadata": {},
   "source": [
    "##### Path Coverage\n",
    "| Senario      | Test Case | OutPut |\n",
    "| :---        |    :----:   | :----: |\n",
    "| Empty Input    | \"\" | True |\n",
    "| No Repeat| \"abcdefg\"| False|\n",
    "| Even Palindrome| \"thissiht\"| True|\n",
    "| Odd Palindrome| \"thisasiht\"| True|\n",
    "| Not Palindrome| \"school\"| Flase|"
   ]
  },
  {
   "cell_type": "code",
   "execution_count": 5,
   "id": "latter-partnership",
   "metadata": {},
   "outputs": [],
   "source": [
    "white1 = [\"\", \"abcdefg\", \"thissiht\", \"thisasiht\", \"school\"]\n",
    "assert list(map(is_permute_pd_arr, white1)) == [True, False, True, True, False]"
   ]
  },
  {
   "cell_type": "markdown",
   "id": "corporate-yugoslavia",
   "metadata": {},
   "source": [
    "Same method can be done in dictionary."
   ]
  }
 ],
 "metadata": {
  "kernelspec": {
   "display_name": "Python 3",
   "language": "python",
   "name": "python3"
  },
  "language_info": {
   "codemirror_mode": {
    "name": "ipython",
    "version": 3
   },
   "file_extension": ".py",
   "mimetype": "text/x-python",
   "name": "python",
   "nbconvert_exporter": "python",
   "pygments_lexer": "ipython3",
   "version": "3.8.5"
  }
 },
 "nbformat": 4,
 "nbformat_minor": 5
}
