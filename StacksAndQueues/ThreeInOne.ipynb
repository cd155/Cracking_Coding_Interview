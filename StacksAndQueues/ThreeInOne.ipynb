{
 "cells": [
  {
   "cell_type": "markdown",
   "id": "specific-nebraska",
   "metadata": {},
   "source": [
    "# Problem\n",
    "\n",
    "    Describe how you could use a single array to implement three stacks."
   ]
  },
  {
   "cell_type": "markdown",
   "id": "intensive-jewel",
   "metadata": {},
   "source": [
    "## Method 1\n",
    "\n",
    "    Divide the array into three piece equally.Eg,assume given an array with length 30, so each parts are range 0-9, 10-19, 20-29 respectively. Assigned each range to each stack. Each stack track the start index and end index, so they don't overlap each other. After that, use each array to represent a single stack."
   ]
  }
 ],
 "metadata": {
  "kernelspec": {
   "display_name": "Python 3",
   "language": "python",
   "name": "python3"
  },
  "language_info": {
   "codemirror_mode": {
    "name": "ipython",
    "version": 3
   },
   "file_extension": ".py",
   "mimetype": "text/x-python",
   "name": "python",
   "nbconvert_exporter": "python",
   "pygments_lexer": "ipython3",
   "version": "3.8.5"
  }
 },
 "nbformat": 4,
 "nbformat_minor": 5
}
