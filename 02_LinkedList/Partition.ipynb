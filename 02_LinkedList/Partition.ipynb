{
 "cells": [
  {
   "cell_type": "code",
   "execution_count": 1,
   "id": "funky-meditation",
   "metadata": {},
   "outputs": [
    {
     "data": {
      "text/html": [
       "<style>table {float:left}</style> <style>td {font-size: 15px}</style> <style>tr {font-size: 15px}</style>\n"
      ],
      "text/plain": [
       "<IPython.core.display.HTML object>"
      ]
     },
     "metadata": {},
     "output_type": "display_data"
    }
   ],
   "source": [
    "%%html\n",
    "<style>table {float:left}</style> <style>td {font-size: 15px}</style> <style>tr {font-size: 15px}</style>"
   ]
  },
  {
   "cell_type": "code",
   "execution_count": 2,
   "id": "0b868976-f620-4eec-b1a1-e19213d29fb8",
   "metadata": {},
   "outputs": [],
   "source": [
    "import nbimporter\n",
    "from LinkedList import *"
   ]
  },
  {
   "cell_type": "markdown",
   "id": "specific-nebraska",
   "metadata": {},
   "source": [
    "# Partition\n",
    "\n",
    "    Write code to partition a linked list around a value x, such that all nodes less than x come before all nodes greater than or equal to x.\n",
    "    \n",
    "    If x is contained within the list, the values of x only need to be after the elements less than x (see below).\n",
    "    \n",
    "    The partition element x can appear anywhere in the \"right partition\"; it does not need to appear between the left and right partitions.\n",
    "    \n",
    "    Example, \n",
    "    Input: 3->5->8->5->10->2->1[partition=5]\n",
    "    Output: 3->1->2->10->5->5-> 8"
   ]
  },
  {
   "cell_type": "markdown",
   "id": "demonstrated-remove",
   "metadata": {},
   "source": [
    "##### Black box\n",
    "| Scenario |Test Case| Output | \n",
    "| :---        |:----:|    :----:   | \n",
    "| Partition in node | 3->5->8->5->10->2->1, 5 | first three < 5, the rest >= 5, eg: 3->2->1->5->8->5->10 | \n",
    "| Partition not in node | 3->5->8->5->10->2->1, 4 | first three < 5, the rest >= 5, eg: 3->2->1->5->8->5->10 | \n",
    "| Partition too high or too low | 3->5->8->5->10->2->1, 12 | 3->5->8->5->10->2->1 | "
   ]
  },
  {
   "cell_type": "code",
   "execution_count": 3,
   "id": "executed-brazil",
   "metadata": {},
   "outputs": [],
   "source": [
    "node1 = node(3)\n",
    "node1.append_to_tail(5)\n",
    "node1.append_to_tail(8)\n",
    "node1.append_to_tail(5)\n",
    "node1.append_to_tail(10)\n",
    "node1.append_to_tail(2)\n",
    "node1.append_to_tail(1)\n",
    "\n",
    "node1_ans1 = node(3)\n",
    "node1_ans1.append_to_tail(2)\n",
    "node1_ans1.append_to_tail(1)\n",
    "node1_ans1.append_to_tail(5)\n",
    "node1_ans1.append_to_tail(8)\n",
    "node1_ans1.append_to_tail(5)\n",
    "node1_ans1.append_to_tail(10)\n",
    "\n",
    "black1 = [node1, node1, node1]\n",
    "black2 = [5, 4, 12]"
   ]
  },
  {
   "cell_type": "markdown",
   "id": "intensive-jewel",
   "metadata": {},
   "source": [
    "## Method 1 - Partition to Two Parts"
   ]
  },
  {
   "cell_type": "code",
   "execution_count": 8,
   "id": "demanding-antibody",
   "metadata": {},
   "outputs": [],
   "source": [
    "def partition_two_parts(head, partition):\n",
    "    n = head\n",
    "    first_part_head = None\n",
    "    second_part_head = None\n",
    "    \n",
    "    # use two pointers to append nodes at the end\n",
    "    first_n = None\n",
    "    second_n = None\n",
    "  \n",
    "    while n != None:\n",
    "        if n.data < partition:\n",
    "            if first_part_head != None:\n",
    "                first_n.next = node(n.data)\n",
    "                first_n = first_n.next\n",
    "            else:\n",
    "                first_part_head = node(n.data)\n",
    "                first_n = first_part_head\n",
    "        else:\n",
    "            if second_part_head != None:\n",
    "                second_n.next = node(n.data)\n",
    "                second_n = second_n.next\n",
    "            else:\n",
    "                second_part_head = node(n.data)\n",
    "                second_n = second_part_head\n",
    "        n = n.next\n",
    "\n",
    "    # combine first part with second part\n",
    "    if first_part_head == None:\n",
    "        return second_part_head\n",
    "    else:\n",
    "        first_n.next = second_part_head\n",
    "        return first_part_head"
   ]
  },
  {
   "cell_type": "code",
   "execution_count": 9,
   "id": "655a6522-a0b0-49dd-997b-5a9dac75be83",
   "metadata": {},
   "outputs": [],
   "source": [
    "result = list(map(partition_two_parts, black1, black2))\n",
    "assert node1_ans1.equal(result[0])\n",
    "assert node1_ans1.equal(result[1])\n",
    "assert node1.equal(result[2])"
   ]
  },
  {
   "cell_type": "markdown",
   "id": "pediatric-concrete",
   "metadata": {},
   "source": [
    "##### Path Coverage\n",
    "Some cases covered in previous tests\n",
    "\n",
    "| Scenario      | Test Case | Output |\n",
    "| :---        |    :----:   | :----: |\n",
    "| First Part is None | 3->5->8->5->10->2->1, 0 | 3->5->8->5->10->2->1 |\n",
    "| Second Part is None | 3->5->8->5->10->2->1, 11 | 3->5->8->5->10->2->1 |\n",
    "| Singe Nodes < Partition| 3, 2 | 3 |\n",
    "| Singe Nodes >= Partition | 3, 3 | 3 |\n",
    "| Normal Case | 3->5->8->5->10->2->1, 6 | 3->5->5->2->1->8->10 |"
   ]
  },
  {
   "cell_type": "code",
   "execution_count": 10,
   "id": "digital-james",
   "metadata": {},
   "outputs": [],
   "source": [
    "node1_ans2 = node(3)\n",
    "node1_ans2.append_to_tail(5)\n",
    "node1_ans2.append_to_tail(5)\n",
    "node1_ans2.append_to_tail(2)\n",
    "node1_ans2.append_to_tail(1)\n",
    "node1_ans2.append_to_tail(8)\n",
    "node1_ans2.append_to_tail(10)\n",
    "\n",
    "node2 = node(3)\n",
    "\n",
    "white1 = [node1, node1, node(3), node(3), node1]\n",
    "white2 = [0, 11, 2, 3, 6]"
   ]
  },
  {
   "cell_type": "code",
   "execution_count": 11,
   "id": "liquid-technique",
   "metadata": {},
   "outputs": [],
   "source": [
    "result = list(map(partition_two_parts, white1, white2))\n",
    "assert node1.equal(result[0])\n",
    "assert node1.equal(result[1])\n",
    "assert node2.equal(result[2])\n",
    "assert node2.equal(result[3])\n",
    "assert node1_ans2.equal(result[4])"
   ]
  }
 ],
 "metadata": {
  "kernelspec": {
   "display_name": "Python 3",
   "language": "python",
   "name": "python3"
  },
  "language_info": {
   "codemirror_mode": {
    "name": "ipython",
    "version": 3
   },
   "file_extension": ".py",
   "mimetype": "text/x-python",
   "name": "python",
   "nbconvert_exporter": "python",
   "pygments_lexer": "ipython3",
   "version": "3.8.5"
  }
 },
 "nbformat": 4,
 "nbformat_minor": 5
}
