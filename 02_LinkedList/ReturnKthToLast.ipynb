{
 "cells": [
  {
   "cell_type": "code",
   "execution_count": 1,
   "id": "funky-meditation",
   "metadata": {},
   "outputs": [
    {
     "data": {
      "text/html": [
       "<style>table {float:left}</style> <style>td {font-size: 15px}</style> <style>tr {font-size: 15px}</style>\n"
      ],
      "text/plain": [
       "<IPython.core.display.HTML object>"
      ]
     },
     "metadata": {},
     "output_type": "display_data"
    }
   ],
   "source": [
    "%%html\n",
    "<style>table {float:left}</style> <style>td {font-size: 15px}</style> <style>tr {font-size: 15px}</style>"
   ]
  },
  {
   "cell_type": "code",
   "execution_count": 2,
   "id": "bdb76d1e-4cbc-4878-b0f8-fce15a31182c",
   "metadata": {},
   "outputs": [],
   "source": [
    "import nbimporter\n",
    "from LinkedList import *"
   ]
  },
  {
   "cell_type": "markdown",
   "id": "specific-nebraska",
   "metadata": {},
   "source": [
    "# Return Kth to Last\n",
    "\n",
    "    Implement an algorithm to find the kth to last element of a singly linked list."
   ]
  },
  {
   "cell_type": "markdown",
   "id": "demonstrated-remove",
   "metadata": {},
   "source": [
    "##### Black box\n",
    "\n",
    "| Scenario |Test Case| Output | \n",
    "| :---        |:----:|    :----:   | \n",
    "| first to last | 3->1->2->4->5->4, 0 | 3->1->2->4->5->4 | \n",
    "| last to last | 3->1->2->4->5->4, 5 | 4 | \n",
    "| middle to last | 3->1->2->4->5->4, 3 | 4->5->4 |\n",
    "| out of range | 3->1->2->4->5->4, 6 | None | "
   ]
  },
  {
   "cell_type": "code",
   "execution_count": 3,
   "id": "executed-brazil",
   "metadata": {},
   "outputs": [],
   "source": [
    "node1 = node(3)\n",
    "node1.append_to_tail(1)\n",
    "node1.append_to_tail(2)\n",
    "node1.append_to_tail(4)\n",
    "node1.append_to_tail(5)\n",
    "node1.append_to_tail(4)\n",
    "\n",
    "node1_ans1 =  node(3)\n",
    "node1_ans1.append_to_tail(1)\n",
    "node1_ans1.append_to_tail(2)\n",
    "node1_ans1.append_to_tail(4)\n",
    "node1_ans1.append_to_tail(5)\n",
    "node1_ans1.append_to_tail(4)\n",
    "\n",
    "node1_ans2 = node(4)\n",
    "\n",
    "node1_ans3 = node(4)\n",
    "node1_ans3.append_to_tail(5)\n",
    "node1_ans3.append_to_tail(4)\n",
    "\n",
    "black1 = [node1, node1, node1, node1]\n",
    "black2 = [0, 5, 3, 6]"
   ]
  },
  {
   "cell_type": "markdown",
   "id": "intensive-jewel",
   "metadata": {},
   "source": [
    "## Method 1 - iterate k times\n",
    "\n",
    "Assumption: k is a positive number, includes zero."
   ]
  },
  {
   "cell_type": "code",
   "execution_count": 4,
   "id": "demanding-antibody",
   "metadata": {},
   "outputs": [],
   "source": [
    "def find_kth_to_end_node(head, kth):\n",
    "    n = head\n",
    "    i = 0\n",
    "    while n != None:\n",
    "        if i == kth:\n",
    "            return n\n",
    "        i += 1\n",
    "        n = n.next\n",
    "    \n",
    "    return None"
   ]
  },
  {
   "cell_type": "code",
   "execution_count": 5,
   "id": "sharp-modeling",
   "metadata": {},
   "outputs": [],
   "source": [
    "result = list(map(find_kth_to_end_node, black1, black2))\n",
    "assert node1_ans1.equal(result[0])\n",
    "assert node1_ans2.equal(result[1])\n",
    "assert node1_ans3.equal(result[2])\n",
    "assert result[3] == None"
   ]
  },
  {
   "cell_type": "markdown",
   "id": "pediatric-concrete",
   "metadata": {},
   "source": [
    "##### Path Coverage\n",
    "All cases covered in previous test.\n",
    "\n",
    "| Scenario      | Test Case | Output |\n",
    "| :---        |    :----:   | :----: |\n",
    "| Zero - min loop |  |  |\n",
    "| Middle - normal loop|  |  |\n",
    "| Last - max loop | |  |\n",
    "| out of range |  |  |"
   ]
  }
 ],
 "metadata": {
  "kernelspec": {
   "display_name": "Python 3",
   "language": "python",
   "name": "python3"
  },
  "language_info": {
   "codemirror_mode": {
    "name": "ipython",
    "version": 3
   },
   "file_extension": ".py",
   "mimetype": "text/x-python",
   "name": "python",
   "nbconvert_exporter": "python",
   "pygments_lexer": "ipython3",
   "version": "3.8.5"
  }
 },
 "nbformat": 4,
 "nbformat_minor": 5
}
