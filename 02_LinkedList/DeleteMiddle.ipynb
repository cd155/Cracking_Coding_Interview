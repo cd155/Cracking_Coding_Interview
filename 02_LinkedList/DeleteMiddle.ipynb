{
 "cells": [
  {
   "cell_type": "code",
   "execution_count": 1,
   "id": "funky-meditation",
   "metadata": {},
   "outputs": [
    {
     "data": {
      "text/html": [
       "<style>table {float:left}</style> <style>td {font-size: 15px}</style> <style>tr {font-size: 15px}</style>\n"
      ],
      "text/plain": [
       "<IPython.core.display.HTML object>"
      ]
     },
     "metadata": {},
     "output_type": "display_data"
    }
   ],
   "source": [
    "%%html\n",
    "<style>table {float:left}</style> <style>td {font-size: 15px}</style> <style>tr {font-size: 15px}</style>"
   ]
  },
  {
   "cell_type": "code",
   "execution_count": 2,
   "id": "993f7bc5-a7f2-4ed8-9370-15419e1dec34",
   "metadata": {},
   "outputs": [],
   "source": [
    "import nbimporter\n",
    "from LinkedList import *"
   ]
  },
  {
   "cell_type": "markdown",
   "id": "specific-nebraska",
   "metadata": {},
   "source": [
    "# Delete Middle Node\n",
    "\n",
    "    Implement an algorithm to delete a node in the middle of a singly linked list, given only access to that node.\n",
    "    \n",
    "    middle node: any node but the first and last node, not necessarily the exact middle"
   ]
  },
  {
   "cell_type": "markdown",
   "id": "demonstrated-remove",
   "metadata": {},
   "source": [
    "##### Black box\n",
    "| Scenario |Test Case| Output | \n",
    "| :---        |:----:|    :----:   | \n",
    "| Even number | 3->1->2->4->5->4 | 3->1->4->5->4 |\n",
    "| Odd number | 3->1->2->4->5 | 3->1->4->5 |\n",
    "| Minimum Node | 3->1->2 | 3->2 | "
   ]
  },
  {
   "cell_type": "code",
   "execution_count": 3,
   "id": "executed-brazil",
   "metadata": {},
   "outputs": [],
   "source": [
    "node1 = node(3)\n",
    "node1.append_to_tail(1)\n",
    "node1.append_to_tail(2)\n",
    "node1.append_to_tail(4)\n",
    "node1.append_to_tail(5)\n",
    "node1.append_to_tail(4)\n",
    "\n",
    "node2 = node(3)\n",
    "node2.append_to_tail(1)\n",
    "node2.append_to_tail(2)\n",
    "node2.append_to_tail(4)\n",
    "node2.append_to_tail(5)\n",
    "\n",
    "node3 = node(3)\n",
    "node3.append_to_tail(1)\n",
    "node3.append_to_tail(2)\n",
    "\n",
    "node1_ans =  node(3)\n",
    "node1_ans.append_to_tail(1)\n",
    "node1_ans.append_to_tail(4)\n",
    "node1_ans.append_to_tail(5)\n",
    "node1_ans.append_to_tail(4)\n",
    "\n",
    "node2_ans =  node(3)\n",
    "node2_ans.append_to_tail(1)\n",
    "node2_ans.append_to_tail(4)\n",
    "node2_ans.append_to_tail(5)\n",
    "\n",
    "node3_ans =  node(3)\n",
    "node3_ans.append_to_tail(2)\n",
    "\n",
    "black1 = [node1, node2, node3]"
   ]
  },
  {
   "cell_type": "markdown",
   "id": "intensive-jewel",
   "metadata": {},
   "source": [
    "## Method 1"
   ]
  },
  {
   "cell_type": "code",
   "execution_count": 4,
   "id": "demanding-antibody",
   "metadata": {},
   "outputs": [],
   "source": [
    "def delete_middle_node(head):\n",
    "    n = head.next\n",
    "    runner = head\n",
    "    i = 0\n",
    "    delay_by_one = True\n",
    "    \n",
    "    while n != None:\n",
    "        i += 1\n",
    "        n = n.next\n",
    "        if i%2 == 0:     \n",
    "            # delay one loop can find the prvious node of the middle node\n",
    "            if delay_by_one:\n",
    "                delay_by_one = False\n",
    "            else:\n",
    "                runner = runner.next\n",
    "    # runner is the prvious node of the middle node\n",
    "    runner.next = runner.next.next\n",
    "    return head"
   ]
  },
  {
   "cell_type": "code",
   "execution_count": 5,
   "id": "sharp-modeling",
   "metadata": {},
   "outputs": [],
   "source": [
    "result = list(map(delete_middle_node, black1))\n",
    "assert node1_ans.equal(result[0])\n",
    "assert node2_ans.equal(result[1])\n",
    "assert node3_ans.equal(result[2])"
   ]
  },
  {
   "cell_type": "markdown",
   "id": "pediatric-concrete",
   "metadata": {},
   "source": [
    "##### Path Coverage\n",
    "    Assumption: the input needs at least has node of length 3. Single node or node of length 2 is not working in this case.\n",
    "    \n",
    "    Most cases covered in previous test.\n",
    "\n",
    "| Scenario      | Test Case | Output |\n",
    "| :---        |    :----:   | :----: |\n",
    "| Minimum length in odd | 3->1->2 | 3->2 |\n",
    "| Minimum length in even | 3->1->2->4 | 3->2->4 |\n",
    "| Normal length in odd | 3->1->2->4->5 | 3->1->4->5 |\n",
    "| Normal length in even | 3->1->2->4->5->4 | 3->1->4->5->4 |"
   ]
  },
  {
   "cell_type": "code",
   "execution_count": 6,
   "id": "digital-james",
   "metadata": {},
   "outputs": [],
   "source": [
    "node4 = node(3)\n",
    "node4.append_to_tail(1)\n",
    "node4.append_to_tail(2)\n",
    "node4.append_to_tail(4)\n",
    "\n",
    "node4_ans =  node(3)\n",
    "node4_ans.append_to_tail(2)\n",
    "node4_ans.append_to_tail(4)\n",
    "\n",
    "white1 = [node4]"
   ]
  },
  {
   "cell_type": "code",
   "execution_count": 7,
   "id": "619a2503-c0eb-4e7a-9805-46fdec9cf20d",
   "metadata": {},
   "outputs": [],
   "source": [
    "result = list(map(delete_middle_node, white1))\n",
    "assert node4_ans.equal(result[0])"
   ]
  }
 ],
 "metadata": {
  "kernelspec": {
   "display_name": "Python 3",
   "language": "python",
   "name": "python3"
  },
  "language_info": {
   "codemirror_mode": {
    "name": "ipython",
    "version": 3
   },
   "file_extension": ".py",
   "mimetype": "text/x-python",
   "name": "python",
   "nbconvert_exporter": "python",
   "pygments_lexer": "ipython3",
   "version": "3.8.5"
  }
 },
 "nbformat": 4,
 "nbformat_minor": 5
}
