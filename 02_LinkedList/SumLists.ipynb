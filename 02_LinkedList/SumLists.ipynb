{
 "cells": [
  {
   "cell_type": "code",
   "execution_count": 1,
   "id": "funky-meditation",
   "metadata": {},
   "outputs": [
    {
     "data": {
      "text/html": [
       "<style>table {float:left}</style> <style>td {font-size: 15px}</style> <style>tr {font-size: 15px}</style>\n"
      ],
      "text/plain": [
       "<IPython.core.display.HTML object>"
      ]
     },
     "metadata": {},
     "output_type": "display_data"
    }
   ],
   "source": [
    "%%html\n",
    "<style>table {float:left}</style> <style>td {font-size: 15px}</style> <style>tr {font-size: 15px}</style>"
   ]
  },
  {
   "cell_type": "code",
   "execution_count": 2,
   "id": "075b95b4-720a-40b4-b09d-4ce2a063f49e",
   "metadata": {},
   "outputs": [],
   "source": [
    "import nbimporter\n",
    "from LinkedList import *"
   ]
  },
  {
   "cell_type": "markdown",
   "id": "specific-nebraska",
   "metadata": {},
   "source": [
    "# Sum Lists\n",
    "\n",
    "    You have two numbers represented by a linked list, where each node contains a single digit.\n",
    "    \n",
    "    The digits are stored in reverse order, such that the 1st digit is at the head of the list. \n",
    "    \n",
    "    Write a function that adds the two numbers and returns the sum as a linked list.\n",
    "    \n",
    "- Example: Input: (7-> 1 -> 6) + (5 -> 9 -> 2). That is 617 + 295. Output:2 -> 1 -> 9, 912."
   ]
  },
  {
   "cell_type": "markdown",
   "id": "demonstrated-remove",
   "metadata": {},
   "source": [
    "##### Black box\n",
    "| Scenario |Test Case| Output | \n",
    "| :---        |:----:|    :----:   | \n",
    "| Single Digits | 3, 4| 7 |\n",
    "| Multiple Digits | 3->5->1, 4->9| 247 | "
   ]
  },
  {
   "cell_type": "code",
   "execution_count": 3,
   "id": "executed-brazil",
   "metadata": {},
   "outputs": [],
   "source": [
    "node1 = node(3)\n",
    "\n",
    "node2 = node(4)\n",
    "\n",
    "node3 = node(3)\n",
    "node3.append_to_tail(5)\n",
    "node3.append_to_tail(1)\n",
    "\n",
    "node4 = node(4)\n",
    "node4.append_to_tail(9)\n",
    "\n",
    "black1 = [node1, node3]\n",
    "black2 = [node2, node4]"
   ]
  },
  {
   "cell_type": "markdown",
   "id": "intensive-jewel",
   "metadata": {},
   "source": [
    "## Method 1, Reverse Digits, 3->5->1 = 153"
   ]
  },
  {
   "cell_type": "code",
   "execution_count": 4,
   "id": "demanding-antibody",
   "metadata": {},
   "outputs": [],
   "source": [
    "def find_sum_list_reverse(head):\n",
    "    n = head\n",
    "    sum = 0\n",
    "    base = 10\n",
    "    i = 0\n",
    "    \n",
    "    while n != None:\n",
    "        sum += n.data*pow(base, i)\n",
    "        i += 1\n",
    "        n = n.next\n",
    "    \n",
    "    return sum\n",
    "\n",
    "def sum_two_lists_reverse(input1, input2):\n",
    "    return find_sum_list_reverse(input1) + find_sum_list_reverse(input2)"
   ]
  },
  {
   "cell_type": "code",
   "execution_count": 5,
   "id": "sharp-modeling",
   "metadata": {},
   "outputs": [],
   "source": [
    "assert list(map(sum_two_lists_reverse, black1, black2)) == [7, 247]"
   ]
  },
  {
   "cell_type": "markdown",
   "id": "pediatric-concrete",
   "metadata": {},
   "source": [
    "##### Path Coverage\n",
    "\n",
    "All cases covered in previous test.\n",
    "\n",
    "| Scenario      | Test Case | Output |\n",
    "| :---        |    :----:   | :----: |\n",
    "| Single Node |  |  |\n",
    "| Multiple Nodes loop|  |  |"
   ]
  },
  {
   "cell_type": "markdown",
   "id": "animal-progress",
   "metadata": {},
   "source": [
    "# Method 2, Forward\n",
    "\n",
    "    Follow Up: Suppose the digits are stored in forward order. Repeat the above problem.\n",
    "    \n",
    "    Example: Input: (6 -> 1 -> 7) + (2 -> 9 -> 5). That is 617 + 295. Output:9 -> 1 -> 2, 912."
   ]
  },
  {
   "cell_type": "code",
   "execution_count": 6,
   "id": "protective-irish",
   "metadata": {},
   "outputs": [],
   "source": [
    "def find_sum_list_forward(head):\n",
    "    n = head\n",
    "    sum = 0\n",
    "    base = 10\n",
    "\n",
    "    # the power start at 0, so set i = -1 as inital value\n",
    "    i = -1\n",
    "\n",
    "    # get the length of the node\n",
    "    while n != None:\n",
    "        i += 1\n",
    "        n = n.next\n",
    "\n",
    "    # reset n to head\n",
    "    n = head\n",
    "    while n != None:\n",
    "        sum += n.data*pow(base, i)\n",
    "        i -= 1\n",
    "        n = n.next\n",
    "\n",
    "    return sum\n",
    "\n",
    "def sum_two_lists_forward(input1, input2):\n",
    "    return find_sum_list_forward(input1) + find_sum_list_forward(input2)"
   ]
  },
  {
   "cell_type": "code",
   "execution_count": 7,
   "id": "clear-richmond",
   "metadata": {},
   "outputs": [],
   "source": [
    "assert list(map(sum_two_lists_forward, black1, black2)) == [7, 400]"
   ]
  },
  {
   "cell_type": "markdown",
   "id": "joint-memorabilia",
   "metadata": {},
   "source": [
    "##### Path Coverage\n",
    "\n",
    "All cases covered in previous test.\n",
    "\n",
    "| Scenario      | Test Case | Output |\n",
    "| :---        |    :----:   | :----: |\n",
    "| Single Node |  |  |\n",
    "| Multiple Nodes loop|  |  |"
   ]
  }
 ],
 "metadata": {
  "kernelspec": {
   "display_name": "Python 3",
   "language": "python",
   "name": "python3"
  },
  "language_info": {
   "codemirror_mode": {
    "name": "ipython",
    "version": 3
   },
   "file_extension": ".py",
   "mimetype": "text/x-python",
   "name": "python",
   "nbconvert_exporter": "python",
   "pygments_lexer": "ipython3",
   "version": "3.8.5"
  }
 },
 "nbformat": 4,
 "nbformat_minor": 5
}
