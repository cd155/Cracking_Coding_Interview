{
 "cells": [
  {
   "cell_type": "code",
   "execution_count": 1,
   "id": "36240151-e769-4250-9018-633bd69642ef",
   "metadata": {},
   "outputs": [
    {
     "data": {
      "text/html": [
       "<style>table {float:left}</style> <style>td {font-size: 15px}</style> <style>tr {font-size: 15px}</style>\n"
      ],
      "text/plain": [
       "<IPython.core.display.HTML object>"
      ]
     },
     "metadata": {},
     "output_type": "display_data"
    }
   ],
   "source": [
    "%%html\n",
    "<style>table {float:left}</style> <style>td {font-size: 15px}</style> <style>tr {font-size: 15px}</style>"
   ]
  },
  {
   "cell_type": "markdown",
   "id": "dc2120e4-4c8c-4c5d-971b-bca61538861d",
   "metadata": {},
   "source": [
    "# Single Linked List"
   ]
  },
  {
   "cell_type": "code",
   "execution_count": 2,
   "id": "0d20341f-a4c8-4156-bbff-4177d49f8b44",
   "metadata": {},
   "outputs": [],
   "source": [
    "class node:\n",
    "\n",
    "    def __init__(self, num):\n",
    "        self.next = None\n",
    "        self.data = num\n",
    "    \n",
    "    def append_to_tail(self, num):\n",
    "        n = self\n",
    "        while n.next != None:\n",
    "            n = n.next\n",
    "        n.next = node(num)\n",
    "\n",
    "    def equal(self, head):\n",
    "        n1 = self\n",
    "        n2 = head\n",
    "        while n1 != None:\n",
    "            if n2 == None:\n",
    "                return False\n",
    "            if n1.data != n2.data:\n",
    "                return False\n",
    "            n1 = n1.next\n",
    "            n2 = n2.next\n",
    "        if n2 != None:\n",
    "            return False\n",
    "        else:\n",
    "            return True\n",
    "\n",
    "\n",
    "def delete_node(head, num):\n",
    "        n = head\n",
    "        if n.data == num:\n",
    "            return head.next\n",
    "        while n.next != None:\n",
    "            if n.next.data == num:\n",
    "                n.next = n.next.next\n",
    "                return head\n",
    "            n = n.next\n",
    "        return head"
   ]
  },
  {
   "cell_type": "code",
   "execution_count": 3,
   "id": "2e808ec6-87c8-4634-a76f-642e8c932a4f",
   "metadata": {},
   "outputs": [],
   "source": [
    "# for debugging\n",
    "def print_linkedlist(head):\n",
    "    n = head\n",
    "    while n != None:\n",
    "        print(n.data)\n",
    "        n = n.next"
   ]
  },
  {
   "cell_type": "code",
   "execution_count": 4,
   "id": "c9ebec2e-1533-4c2a-8013-e9c55c254c52",
   "metadata": {},
   "outputs": [],
   "source": [
    "node1 = node(1)\n",
    "node1.append_to_tail(3)\n",
    "node1.append_to_tail(2)\n",
    "\n",
    "node2 = node(1)\n",
    "node2.append_to_tail(3)\n",
    "node2.append_to_tail(2)\n",
    "\n",
    "node7 = node(1)\n",
    "node7.append_to_tail(5)\n",
    "node7.append_to_tail(2)\n",
    "\n",
    "node6 = node(1)\n",
    "node6.append_to_tail(3)\n",
    "node6.append_to_tail(2)\n",
    "node6.append_to_tail(100)"
   ]
  },
  {
   "cell_type": "markdown",
   "id": "2ce51115-b651-468e-bde2-283b2d079941",
   "metadata": {},
   "source": [
    "##### Path Coverage Equal\n",
    "| Senario      | Test Case | OutPut |\n",
    "| :---        |    :----:   | :----: |\n",
    "| long list and short list | 1->3->2, 1 | False |\n",
    "| short list and long list | 1->3->2, 1->3->2->6 | False |\n",
    "| two list equal | 1->3->2, 1->3->2 | True |\n",
    "| two list not equal | 1->3->2, 1->5->2 | False |"
   ]
  },
  {
   "cell_type": "code",
   "execution_count": 5,
   "id": "36df089b-eaa0-4f20-abb0-5da2b40d0046",
   "metadata": {},
   "outputs": [],
   "source": [
    "assert not node1.equal(node(1))\n",
    "assert not node1.equal(node6)\n",
    "assert node1.equal(node2)\n",
    "assert not node1.equal(node7)"
   ]
  },
  {
   "cell_type": "markdown",
   "id": "3f0ee39e-0792-40f0-b470-27793ecb556d",
   "metadata": {},
   "source": [
    "##### Path Coverage Delete\n",
    "| Senario      | Test Case | OutPut |\n",
    "| :---        |    :----:   | :----: |\n",
    "| Delete First | 1->3->2, 2->1->3->2 | True |\n",
    "| Delete Last | 1->3->2, 1->3->2->0 | True |\n",
    "| Delete Middle  | 1->3->2, 1->3->2->5 | True |"
   ]
  },
  {
   "cell_type": "code",
   "execution_count": 6,
   "id": "f6d825a9-ae57-47d6-8882-cccdac0dd29d",
   "metadata": {},
   "outputs": [],
   "source": [
    "node3 = node(1)\n",
    "node3.append_to_tail(3)\n",
    "node3.append_to_tail(2)\n",
    "node3.append_to_tail(0)\n",
    "\n",
    "node4 = node(2)\n",
    "node4.append_to_tail(1)\n",
    "node4.append_to_tail(3)\n",
    "node4.append_to_tail(2)\n",
    "\n",
    "node5 = node(1)\n",
    "node5.append_to_tail(3)\n",
    "node5.append_to_tail(5)\n",
    "node5.append_to_tail(2)"
   ]
  },
  {
   "cell_type": "code",
   "execution_count": 7,
   "id": "f0b224f0-26cf-4e9d-9dfa-87a6f3b270e5",
   "metadata": {},
   "outputs": [],
   "source": [
    "node4 = delete_node(node4, 2)\n",
    "node3 = delete_node(node3, 0)\n",
    "node5 = delete_node(node5, 5)"
   ]
  },
  {
   "cell_type": "code",
   "execution_count": 8,
   "id": "c51308ff-af69-4d14-8c33-87982df1c9ef",
   "metadata": {},
   "outputs": [],
   "source": [
    "assert node1.equal(node3)\n",
    "assert node1.equal(node4)\n",
    "assert node1.equal(node5)"
   ]
  }
 ],
 "metadata": {
  "kernelspec": {
   "display_name": "Python 3",
   "language": "python",
   "name": "python3"
  },
  "language_info": {
   "codemirror_mode": {
    "name": "ipython",
    "version": 3
   },
   "file_extension": ".py",
   "mimetype": "text/x-python",
   "name": "python",
   "nbconvert_exporter": "python",
   "pygments_lexer": "ipython3",
   "version": "3.8.5"
  }
 },
 "nbformat": 4,
 "nbformat_minor": 5
}
