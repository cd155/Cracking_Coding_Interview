{
 "cells": [
  {
   "cell_type": "code",
   "execution_count": 1,
   "id": "c9209799-79db-4d91-aab6-ce3df7a629b1",
   "metadata": {},
   "outputs": [],
   "source": [
    "import nbimporter\n",
    "from LinkedList import *"
   ]
  },
  {
   "cell_type": "code",
   "execution_count": 2,
   "id": "06d04c60-62b8-4cca-ab88-6a1d6349d47e",
   "metadata": {},
   "outputs": [],
   "source": [
    "class my_stack:\n",
    "    \n",
    "    def __init__(self):\n",
    "        self.top = None\n",
    "    \n",
    "    def pop(self):\n",
    "        if self.top == None:\n",
    "            raise Exception(\"empty stack\");l\n",
    "        item = self.top.data\n",
    "        self.top = self.top.next\n",
    "        return item\n",
    "    \n",
    "    def push(self, item):\n",
    "        t = node(item)\n",
    "        t.next = self.top\n",
    "        self.top = t\n",
    "    \n",
    "    def peek(self):\n",
    "        if self.top == None:\n",
    "            raise Exception(\"empty stack\")\n",
    "        return self.top.data\n",
    "    \n",
    "    def is_empty(self):\n",
    "        return self.top == None"
   ]
  },
  {
   "cell_type": "code",
   "execution_count": 3,
   "id": "470afa84-c1c8-48a8-97b9-04a5daa7e8b3",
   "metadata": {},
   "outputs": [],
   "source": [
    "# for debugging\n",
    "def print_stack(stack):\n",
    "    n = stack.top\n",
    "    while n != None:\n",
    "        print(n.data)\n",
    "        n = n.next"
   ]
  },
  {
   "cell_type": "code",
   "execution_count": 4,
   "id": "0d3935d5-5741-4e89-8ab8-c1512cd1072b",
   "metadata": {},
   "outputs": [],
   "source": [
    "stack = my_stack()"
   ]
  },
  {
   "cell_type": "code",
   "execution_count": 5,
   "id": "5b258901-33cc-4e10-acc6-a3f9e74ed4ef",
   "metadata": {},
   "outputs": [],
   "source": [
    "# stack.pop()\n",
    "# stack.peek()"
   ]
  },
  {
   "cell_type": "code",
   "execution_count": 6,
   "id": "c42ee507-6fa1-4986-9873-81d56af5acf9",
   "metadata": {},
   "outputs": [],
   "source": [
    "assert stack.is_empty()"
   ]
  },
  {
   "cell_type": "code",
   "execution_count": 7,
   "id": "bc91f454-51cf-4fd3-8cb7-97bf1783b72f",
   "metadata": {},
   "outputs": [
    {
     "name": "stdout",
     "output_type": "stream",
     "text": [
      "5\n",
      "6\n",
      "5\n",
      "10\n"
     ]
    }
   ],
   "source": [
    "stack.push(10)\n",
    "stack.push(5)\n",
    "stack.push(6)\n",
    "stack.push(5)\n",
    "print_stack(stack)"
   ]
  },
  {
   "cell_type": "code",
   "execution_count": 8,
   "id": "7f74d6f6-6159-42da-9e19-466999035d8c",
   "metadata": {},
   "outputs": [
    {
     "name": "stdout",
     "output_type": "stream",
     "text": [
      "6\n",
      "5\n",
      "10\n"
     ]
    }
   ],
   "source": [
    "stack.pop()\n",
    "print_stack(stack)"
   ]
  },
  {
   "cell_type": "code",
   "execution_count": 9,
   "id": "8210425d-d9d1-4e38-82b6-5335322a9685",
   "metadata": {},
   "outputs": [],
   "source": [
    "assert stack.peek() == 6\n",
    "assert not stack.is_empty()"
   ]
  }
 ],
 "metadata": {
  "kernelspec": {
   "display_name": "Python 3",
   "language": "python",
   "name": "python3"
  },
  "language_info": {
   "codemirror_mode": {
    "name": "ipython",
    "version": 3
   },
   "file_extension": ".py",
   "mimetype": "text/x-python",
   "name": "python",
   "nbconvert_exporter": "python",
   "pygments_lexer": "ipython3",
   "version": "3.8.5"
  }
 },
 "nbformat": 4,
 "nbformat_minor": 5
}
